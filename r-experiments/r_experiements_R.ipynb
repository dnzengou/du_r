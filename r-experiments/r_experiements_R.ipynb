{
  "nbformat": 4,
  "nbformat_minor": 0,
  "metadata": {
    "kernelspec": {
      "display_name": "R",
      "language": "R",
      "name": "ir"
    },
    "language_info": {
      "codemirror_mode": "r",
      "file_extension": ".r",
      "mimetype": "text/x-r-source",
      "name": "R",
      "pygments_lexer": "r",
      "version": "3.4.2"
    },
    "colab": {
      "name": "r-experiements_R.ipynb",
      "provenance": [],
      "collapsed_sections": []
    }
  },
  "cells": [
    {
      "cell_type": "markdown",
      "metadata": {
        "id": "erWbMT6EFCkg"
      },
      "source": [
        "[source](https://github.com/binder-examples/r)"
      ]
    },
    {
      "cell_type": "markdown",
      "metadata": {
        "id": "_vIfvVSEEP8a"
      },
      "source": [
        "R Code pulled from https://www.statmethods.net/advgraphs/ggplot2.html"
      ]
    },
    {
      "cell_type": "markdown",
      "metadata": {
        "id": "v0cUwmVMRJbl"
      },
      "source": [
        "## Excerpt from Computer exercise 1: Introduction to ggplot2"
      ]
    },
    {
      "cell_type": "markdown",
      "metadata": {
        "id": "7Go0AMrnRJez"
      },
      "source": [
        "In this exercise, we will study two datasets that are shipped with the ggplot2 package:\r\n",
        "* diamonds: describing the prices of more than 50,000 cut diamonds.\r\n",
        "* msleep: describing the sleep times of 83 mammals."
      ]
    },
    {
      "cell_type": "code",
      "metadata": {
        "id": "YHjqnMLTEP8h"
      },
      "source": [
        "# ggplot2 examples\n",
        "library(ggplot2) "
      ],
      "execution_count": 1,
      "outputs": []
    },
    {
      "cell_type": "markdown",
      "metadata": {
        "id": "kunWEUXuRJiy"
      },
      "source": [
        "### 1. View the documentation for the two datasets"
      ]
    },
    {
      "cell_type": "code",
      "metadata": {
        "id": "26HLPsYGRJ48"
      },
      "source": [
        "#?diamonds\r\n",
        "\r\n",
        "#load(diamonds)"
      ],
      "execution_count": null,
      "outputs": []
    },
    {
      "cell_type": "code",
      "metadata": {
        "colab": {
          "base_uri": "https://localhost:8080/",
          "height": 219
        },
        "id": "2sfa7k08oWWH",
        "outputId": "7fe1924d-9ae3-4add-f2f6-380e2284a963"
      },
      "source": [
        "tail(diamonds, 4)"
      ],
      "execution_count": null,
      "outputs": [
        {
          "output_type": "display_data",
          "data": {
            "text/plain": [
              "  carat cut       color clarity depth table price x    y    z   \n",
              "1 0.72  Good      D     SI1     63.1  55    2757  5.69 5.75 3.61\n",
              "2 0.70  Very Good D     SI1     62.8  60    2757  5.66 5.68 3.56\n",
              "3 0.86  Premium   H     SI2     61.0  58    2757  6.15 6.12 3.74\n",
              "4 0.75  Ideal     D     SI2     62.2  55    2757  5.83 5.87 3.64"
            ],
            "text/latex": "A tibble: 4 × 10\n\\begin{tabular}{llllllllll}\n carat & cut & color & clarity & depth & table & price & x & y & z\\\\\n <dbl> & <ord> & <ord> & <ord> & <dbl> & <dbl> & <int> & <dbl> & <dbl> & <dbl>\\\\\n\\hline\n\t 0.72 & Good      & D & SI1 & 63.1 & 55 & 2757 & 5.69 & 5.75 & 3.61\\\\\n\t 0.70 & Very Good & D & SI1 & 62.8 & 60 & 2757 & 5.66 & 5.68 & 3.56\\\\\n\t 0.86 & Premium   & H & SI2 & 61.0 & 58 & 2757 & 6.15 & 6.12 & 3.74\\\\\n\t 0.75 & Ideal     & D & SI2 & 62.2 & 55 & 2757 & 5.83 & 5.87 & 3.64\\\\\n\\end{tabular}\n",
            "text/markdown": "\nA tibble: 4 × 10\n\n| carat &lt;dbl&gt; | cut &lt;ord&gt; | color &lt;ord&gt; | clarity &lt;ord&gt; | depth &lt;dbl&gt; | table &lt;dbl&gt; | price &lt;int&gt; | x &lt;dbl&gt; | y &lt;dbl&gt; | z &lt;dbl&gt; |\n|---|---|---|---|---|---|---|---|---|---|\n| 0.72 | Good      | D | SI1 | 63.1 | 55 | 2757 | 5.69 | 5.75 | 3.61 |\n| 0.70 | Very Good | D | SI1 | 62.8 | 60 | 2757 | 5.66 | 5.68 | 3.56 |\n| 0.86 | Premium   | H | SI2 | 61.0 | 58 | 2757 | 6.15 | 6.12 | 3.74 |\n| 0.75 | Ideal     | D | SI2 | 62.2 | 55 | 2757 | 5.83 | 5.87 | 3.64 |\n\n",
            "text/html": [
              "<table class=\"dataframe\">\n",
              "<caption>A tibble: 4 × 10</caption>\n",
              "<thead>\n",
              "\t<tr><th scope=col>carat</th><th scope=col>cut</th><th scope=col>color</th><th scope=col>clarity</th><th scope=col>depth</th><th scope=col>table</th><th scope=col>price</th><th scope=col>x</th><th scope=col>y</th><th scope=col>z</th></tr>\n",
              "\t<tr><th scope=col>&lt;dbl&gt;</th><th scope=col>&lt;ord&gt;</th><th scope=col>&lt;ord&gt;</th><th scope=col>&lt;ord&gt;</th><th scope=col>&lt;dbl&gt;</th><th scope=col>&lt;dbl&gt;</th><th scope=col>&lt;int&gt;</th><th scope=col>&lt;dbl&gt;</th><th scope=col>&lt;dbl&gt;</th><th scope=col>&lt;dbl&gt;</th></tr>\n",
              "</thead>\n",
              "<tbody>\n",
              "\t<tr><td>0.72</td><td>Good     </td><td>D</td><td>SI1</td><td>63.1</td><td>55</td><td>2757</td><td>5.69</td><td>5.75</td><td>3.61</td></tr>\n",
              "\t<tr><td>0.70</td><td>Very Good</td><td>D</td><td>SI1</td><td>62.8</td><td>60</td><td>2757</td><td>5.66</td><td>5.68</td><td>3.56</td></tr>\n",
              "\t<tr><td>0.86</td><td>Premium  </td><td>H</td><td>SI2</td><td>61.0</td><td>58</td><td>2757</td><td>6.15</td><td>6.12</td><td>3.74</td></tr>\n",
              "\t<tr><td>0.75</td><td>Ideal    </td><td>D</td><td>SI2</td><td>62.2</td><td>55</td><td>2757</td><td>5.83</td><td>5.87</td><td>3.64</td></tr>\n",
              "</tbody>\n",
              "</table>\n"
            ]
          },
          "metadata": {
            "tags": []
          }
        }
      ]
    },
    {
      "cell_type": "code",
      "metadata": {
        "colab": {
          "base_uri": "https://localhost:8080/",
          "height": 433
        },
        "id": "gJWf1-gOSEiZ",
        "outputId": "1efe990d-12ad-46e8-9723-16ae295bb037"
      },
      "source": [
        "summary(diamonds)"
      ],
      "execution_count": 3,
      "outputs": [
        {
          "output_type": "display_data",
          "data": {
            "text/plain": [
              "     carat               cut        color        clarity          depth      \n",
              " Min.   :0.2000   Fair     : 1610   D: 6775   SI1    :13065   Min.   :43.00  \n",
              " 1st Qu.:0.4000   Good     : 4906   E: 9797   VS2    :12258   1st Qu.:61.00  \n",
              " Median :0.7000   Very Good:12082   F: 9542   SI2    : 9194   Median :61.80  \n",
              " Mean   :0.7979   Premium  :13791   G:11292   VS1    : 8171   Mean   :61.75  \n",
              " 3rd Qu.:1.0400   Ideal    :21551   H: 8304   VVS2   : 5066   3rd Qu.:62.50  \n",
              " Max.   :5.0100                     I: 5422   VVS1   : 3655   Max.   :79.00  \n",
              "                                    J: 2808   (Other): 2531                  \n",
              "     table           price             x                y         \n",
              " Min.   :43.00   Min.   :  326   Min.   : 0.000   Min.   : 0.000  \n",
              " 1st Qu.:56.00   1st Qu.:  950   1st Qu.: 4.710   1st Qu.: 4.720  \n",
              " Median :57.00   Median : 2401   Median : 5.700   Median : 5.710  \n",
              " Mean   :57.46   Mean   : 3933   Mean   : 5.731   Mean   : 5.735  \n",
              " 3rd Qu.:59.00   3rd Qu.: 5324   3rd Qu.: 6.540   3rd Qu.: 6.540  \n",
              " Max.   :95.00   Max.   :18823   Max.   :10.740   Max.   :58.900  \n",
              "                                                                  \n",
              "       z         \n",
              " Min.   : 0.000  \n",
              " 1st Qu.: 2.910  \n",
              " Median : 3.530  \n",
              " Mean   : 3.539  \n",
              " 3rd Qu.: 4.040  \n",
              " Max.   :31.800  \n",
              "                 "
            ]
          },
          "metadata": {
            "tags": []
          }
        }
      ]
    },
    {
      "cell_type": "code",
      "metadata": {
        "id": "qp9AlYQ5R-1L"
      },
      "source": [
        "#?msleep"
      ],
      "execution_count": null,
      "outputs": []
    },
    {
      "cell_type": "code",
      "metadata": {
        "colab": {
          "base_uri": "https://localhost:8080/",
          "height": 189
        },
        "id": "dFgRVnFeoRZ7",
        "outputId": "f6de6668-9242-423a-85de-5d2ad3e51f9b"
      },
      "source": [
        "head(msleep, 3)"
      ],
      "execution_count": null,
      "outputs": [
        {
          "output_type": "display_data",
          "data": {
            "text/plain": [
              "  name            genus      vore  order     conservation sleep_total sleep_rem\n",
              "1 Cheetah         Acinonyx   carni Carnivora lc           12.1         NA      \n",
              "2 Owl monkey      Aotus      omni  Primates  NA           17.0        1.8      \n",
              "3 Mountain beaver Aplodontia herbi Rodentia  nt           14.4        2.4      \n",
              "  sleep_cycle awake brainwt bodywt\n",
              "1 NA          11.9      NA  50.00 \n",
              "2 NA           7.0  0.0155   0.48 \n",
              "3 NA           9.6      NA   1.35 "
            ],
            "text/latex": "A tibble: 3 × 11\n\\begin{tabular}{lllllllllll}\n name & genus & vore & order & conservation & sleep\\_total & sleep\\_rem & sleep\\_cycle & awake & brainwt & bodywt\\\\\n <chr> & <chr> & <chr> & <chr> & <chr> & <dbl> & <dbl> & <dbl> & <dbl> & <dbl> & <dbl>\\\\\n\\hline\n\t Cheetah         & Acinonyx   & carni & Carnivora & lc & 12.1 &  NA & NA & 11.9 &     NA & 50.00\\\\\n\t Owl monkey      & Aotus      & omni  & Primates  & NA & 17.0 & 1.8 & NA &  7.0 & 0.0155 &  0.48\\\\\n\t Mountain beaver & Aplodontia & herbi & Rodentia  & nt & 14.4 & 2.4 & NA &  9.6 &     NA &  1.35\\\\\n\\end{tabular}\n",
            "text/markdown": "\nA tibble: 3 × 11\n\n| name &lt;chr&gt; | genus &lt;chr&gt; | vore &lt;chr&gt; | order &lt;chr&gt; | conservation &lt;chr&gt; | sleep_total &lt;dbl&gt; | sleep_rem &lt;dbl&gt; | sleep_cycle &lt;dbl&gt; | awake &lt;dbl&gt; | brainwt &lt;dbl&gt; | bodywt &lt;dbl&gt; |\n|---|---|---|---|---|---|---|---|---|---|---|\n| Cheetah         | Acinonyx   | carni | Carnivora | lc | 12.1 |  NA | NA | 11.9 |     NA | 50.00 |\n| Owl monkey      | Aotus      | omni  | Primates  | NA | 17.0 | 1.8 | NA |  7.0 | 0.0155 |  0.48 |\n| Mountain beaver | Aplodontia | herbi | Rodentia  | nt | 14.4 | 2.4 | NA |  9.6 |     NA |  1.35 |\n\n",
            "text/html": [
              "<table class=\"dataframe\">\n",
              "<caption>A tibble: 3 × 11</caption>\n",
              "<thead>\n",
              "\t<tr><th scope=col>name</th><th scope=col>genus</th><th scope=col>vore</th><th scope=col>order</th><th scope=col>conservation</th><th scope=col>sleep_total</th><th scope=col>sleep_rem</th><th scope=col>sleep_cycle</th><th scope=col>awake</th><th scope=col>brainwt</th><th scope=col>bodywt</th></tr>\n",
              "\t<tr><th scope=col>&lt;chr&gt;</th><th scope=col>&lt;chr&gt;</th><th scope=col>&lt;chr&gt;</th><th scope=col>&lt;chr&gt;</th><th scope=col>&lt;chr&gt;</th><th scope=col>&lt;dbl&gt;</th><th scope=col>&lt;dbl&gt;</th><th scope=col>&lt;dbl&gt;</th><th scope=col>&lt;dbl&gt;</th><th scope=col>&lt;dbl&gt;</th><th scope=col>&lt;dbl&gt;</th></tr>\n",
              "</thead>\n",
              "<tbody>\n",
              "\t<tr><td>Cheetah        </td><td>Acinonyx  </td><td>carni</td><td>Carnivora</td><td>lc</td><td>12.1</td><td> NA</td><td>NA</td><td>11.9</td><td>    NA</td><td>50.00</td></tr>\n",
              "\t<tr><td>Owl monkey     </td><td>Aotus     </td><td>omni </td><td>Primates </td><td>NA</td><td>17.0</td><td>1.8</td><td>NA</td><td> 7.0</td><td>0.0155</td><td> 0.48</td></tr>\n",
              "\t<tr><td>Mountain beaver</td><td>Aplodontia</td><td>herbi</td><td>Rodentia </td><td>nt</td><td>14.4</td><td>2.4</td><td>NA</td><td> 9.6</td><td>    NA</td><td> 1.35</td></tr>\n",
              "</tbody>\n",
              "</table>\n"
            ]
          },
          "metadata": {
            "tags": []
          }
        }
      ]
    },
    {
      "cell_type": "markdown",
      "metadata": {
        "id": "z1n5Ck9btUxL"
      },
      "source": [
        "### 2. Check the data structures: how many observations and variables are there and what type of variables (numeric, categorical, etc.) are there?"
      ]
    },
    {
      "cell_type": "code",
      "metadata": {
        "colab": {
          "base_uri": "https://localhost:8080/",
          "height": 433
        },
        "id": "2QBV_E_HSJxi",
        "outputId": "ce6dd297-e8b1-40e3-fc4a-88fd691dde1b"
      },
      "source": [
        "summary(msleep)"
      ],
      "execution_count": null,
      "outputs": [
        {
          "output_type": "display_data",
          "data": {
            "text/plain": [
              "     name              genus               vore              order          \n",
              " Length:83          Length:83          Length:83          Length:83         \n",
              " Class :character   Class :character   Class :character   Class :character  \n",
              " Mode  :character   Mode  :character   Mode  :character   Mode  :character  \n",
              "                                                                            \n",
              "                                                                            \n",
              "                                                                            \n",
              "                                                                            \n",
              " conservation        sleep_total      sleep_rem      sleep_cycle    \n",
              " Length:83          Min.   : 1.90   Min.   :0.100   Min.   :0.1167  \n",
              " Class :character   1st Qu.: 7.85   1st Qu.:0.900   1st Qu.:0.1833  \n",
              " Mode  :character   Median :10.10   Median :1.500   Median :0.3333  \n",
              "                    Mean   :10.43   Mean   :1.875   Mean   :0.4396  \n",
              "                    3rd Qu.:13.75   3rd Qu.:2.400   3rd Qu.:0.5792  \n",
              "                    Max.   :19.90   Max.   :6.600   Max.   :1.5000  \n",
              "                                    NA's   :22      NA's   :51      \n",
              "     awake          brainwt            bodywt        \n",
              " Min.   : 4.10   Min.   :0.00014   Min.   :   0.005  \n",
              " 1st Qu.:10.25   1st Qu.:0.00290   1st Qu.:   0.174  \n",
              " Median :13.90   Median :0.01240   Median :   1.670  \n",
              " Mean   :13.57   Mean   :0.28158   Mean   : 166.136  \n",
              " 3rd Qu.:16.15   3rd Qu.:0.12550   3rd Qu.:  41.750  \n",
              " Max.   :22.10   Max.   :5.71200   Max.   :6654.000  \n",
              "                 NA's   :27                          "
            ]
          },
          "metadata": {
            "tags": []
          }
        }
      ]
    },
    {
      "cell_type": "code",
      "metadata": {
        "colab": {
          "base_uri": "https://localhost:8080/",
          "height": 437
        },
        "id": "7SxJtfSQRJ7t",
        "outputId": "f6116221-1697-403a-9025-fc473c439010"
      },
      "source": [
        "ggplot(diamonds, aes(carat, price)) +\r\n",
        "geom_point()"
      ],
      "execution_count": null,
      "outputs": [
        {
          "output_type": "display_data",
          "data": {
            "image/png": "[encoded data removed]",
            "text/plain": [
              "plot without title"
            ]
          },
          "metadata": {
            "tags": [],
            "image/png": {
              "width": 420,
              "height": 420
            }
          }
        }
      ]
    },
    {
      "cell_type": "code",
      "metadata": {
        "colab": {
          "base_uri": "https://localhost:8080/",
          "height": 437
        },
        "id": "h1prdqqqoF8o",
        "outputId": "8f1dfb71-4001-49ab-fc96-8a63172684a8"
      },
      "source": [
        "ggplot(msleep, aes(sleep_total, bodywt)) +\r\n",
        "geom_point()"
      ],
      "execution_count": null,
      "outputs": [
        {
          "output_type": "display_data",
          "data": {
            "image/png": "[encoded data removed]",
            "text/plain": [
              "plot without title"
            ]
          },
          "metadata": {
            "tags": [],
            "image/png": {
              "width": 420,
              "height": 420
            }
          }
        }
      ]
    },
    {
      "cell_type": "code",
      "metadata": {
        "colab": {
          "base_uri": "https://localhost:8080/"
        },
        "id": "su3Cs6ZZRJ_U",
        "outputId": "3cee8aed-e293-4608-ae66-8b0e413143b3"
      },
      "source": [
        "install.packages(\"dataMaid\")\r\n",
        "library(\"dataMaid\")"
      ],
      "execution_count": 5,
      "outputs": [
        {
          "output_type": "stream",
          "text": [
            "Installing package into ‘/usr/local/lib/R/site-library’\n",
            "(as ‘lib’ is unspecified)\n",
            "\n",
            "also installing the dependencies ‘DEoptimR’, ‘gridExtra’, ‘pander’, ‘robustbase’, ‘whoami’\n",
            "\n",
            "\n"
          ],
          "name": "stderr"
        }
      ]
    },
    {
      "cell_type": "code",
      "metadata": {
        "colab": {
          "base_uri": "https://localhost:8080/"
        },
        "id": "eBG4EA5ipTRp",
        "outputId": "37c22f58-8ca8-41b0-bab7-0a100ce2799f"
      },
      "source": [
        "makeDataReport(msleep)"
      ],
      "execution_count": null,
      "outputs": [
        {
          "output_type": "stream",
          "text": [
            "Data report generation is finished. Please wait while your output file is being rendered.\n",
            "\n"
          ],
          "name": "stderr"
        }
      ]
    },
    {
      "cell_type": "code",
      "metadata": {
        "colab": {
          "base_uri": "https://localhost:8080/"
        },
        "id": "AImDBoIfHkZt",
        "outputId": "2d33a5be-5651-4cbf-aba6-dec7623686f9"
      },
      "source": [
        "makeDataReport(diamonds)"
      ],
      "execution_count": 7,
      "outputs": [
        {
          "output_type": "stream",
          "text": [
            "Data report generation is finished. Please wait while your output file is being rendered.\n",
            "\n"
          ],
          "name": "stderr"
        }
      ]
    },
    {
      "cell_type": "code",
      "metadata": {
        "colab": {
          "base_uri": "https://localhost:8080/"
        },
        "id": "fb04WK2MqOAc",
        "outputId": "e5412d43-2b7d-4fd3-a093-12f768cff0eb"
      },
      "source": [
        "install.packages(\"psych\")\r\n",
        "library(psych)"
      ],
      "execution_count": 6,
      "outputs": [
        {
          "output_type": "stream",
          "text": [
            "Installing package into ‘/usr/local/lib/R/site-library’\n",
            "(as ‘lib’ is unspecified)\n",
            "\n",
            "also installing the dependencies ‘tmvnsim’, ‘mnormt’\n",
            "\n",
            "\n",
            "\n",
            "Attaching package: ‘psych’\n",
            "\n",
            "\n",
            "The following objects are masked from ‘package:ggplot2’:\n",
            "\n",
            "    %+%, alpha\n",
            "\n",
            "\n"
          ],
          "name": "stderr"
        }
      ]
    },
    {
      "cell_type": "code",
      "metadata": {
        "colab": {
          "base_uri": "https://localhost:8080/",
          "height": 403
        },
        "id": "ag7l2NG1q1sl",
        "outputId": "54d38a71-8a64-4b93-9007-ee25449ab493"
      },
      "source": [
        "#describeBy(diamonds, group=\"carat\")\r\n",
        "describe(diamonds)"
      ],
      "execution_count": 8,
      "outputs": [
        {
          "output_type": "display_data",
          "data": {
            "text/plain": [
              "         vars n     mean         sd           median  trimmed      mad        \n",
              "carat     1   53940    0.7979397    0.4740112    0.70    0.7349655    0.474432\n",
              "cut*      2   53940    3.9040971    1.1165999    4.00    4.0424314    1.482600\n",
              "color*    3   53940    3.5941973    1.7011048    4.00    3.5526743    1.482600\n",
              "clarity*  4   53940    4.0510197    1.6471361    4.00    3.9144651    1.482600\n",
              "depth     5   53940   61.7494049    1.4326213   61.80   61.7846079    1.037820\n",
              "table     6   53940   57.4571839    2.2344906   57.00   57.3183514    1.482600\n",
              "price     7   53940 3932.7997219 3989.4397381 2401.00 3158.9923526 2475.942000\n",
              "x         8   53940    5.7311572    1.1217607    5.70    5.6600758    1.378818\n",
              "y         9   53940    5.7345260    1.1421347    5.71    5.6627443    1.363992\n",
              "z        10   53940    3.5387338    0.7056988    3.53    3.4948834    0.845082\n",
              "         min   max      range    skew        kurtosis   se          \n",
              "carat      0.2     5.01     4.81  1.11658382  1.2562498  0.002040954\n",
              "cut*       1.0     5.00     4.00 -0.71714057 -0.3981442  0.004807753\n",
              "color*     1.0     7.00     6.00  0.18935538 -0.8668722  0.007324460\n",
              "clarity*   1.0     8.00     7.00  0.55140687 -0.3949375  0.007092086\n",
              "depth     43.0    79.00    36.00 -0.08228945  5.7384473  0.006168448\n",
              "table     43.0    95.00    52.00  0.79685153  2.8012708  0.009621063\n",
              "price    326.0 18823.00 18497.00  1.61830527  2.1771907 17.177360816\n",
              "x          0.0    10.74    10.74  0.37865528 -0.6183029  0.004829974\n",
              "y          0.0    58.90    58.90  2.43403134 91.2024980  0.004917698\n",
              "z          0.0    31.80    31.80  1.52233789 47.0802865  0.003038533"
            ],
            "text/latex": "A psych: 10 × 13\n\\begin{tabular}{r|lllllllllllll}\n  & vars & n & mean & sd & median & trimmed & mad & min & max & range & skew & kurtosis & se\\\\\n  & <int> & <dbl> & <dbl> & <dbl> & <dbl> & <dbl> & <dbl> & <dbl> & <dbl> & <dbl> & <dbl> & <dbl> & <dbl>\\\\\n\\hline\n\tcarat &  1 & 53940 &    0.7979397 &    0.4740112 &    0.70 &    0.7349655 &    0.474432 &   0.2 &     5.01 &     4.81 &  1.11658382 &  1.2562498 &  0.002040954\\\\\n\tcut* &  2 & 53940 &    3.9040971 &    1.1165999 &    4.00 &    4.0424314 &    1.482600 &   1.0 &     5.00 &     4.00 & -0.71714057 & -0.3981442 &  0.004807753\\\\\n\tcolor* &  3 & 53940 &    3.5941973 &    1.7011048 &    4.00 &    3.5526743 &    1.482600 &   1.0 &     7.00 &     6.00 &  0.18935538 & -0.8668722 &  0.007324460\\\\\n\tclarity* &  4 & 53940 &    4.0510197 &    1.6471361 &    4.00 &    3.9144651 &    1.482600 &   1.0 &     8.00 &     7.00 &  0.55140687 & -0.3949375 &  0.007092086\\\\\n\tdepth &  5 & 53940 &   61.7494049 &    1.4326213 &   61.80 &   61.7846079 &    1.037820 &  43.0 &    79.00 &    36.00 & -0.08228945 &  5.7384473 &  0.006168448\\\\\n\ttable &  6 & 53940 &   57.4571839 &    2.2344906 &   57.00 &   57.3183514 &    1.482600 &  43.0 &    95.00 &    52.00 &  0.79685153 &  2.8012708 &  0.009621063\\\\\n\tprice &  7 & 53940 & 3932.7997219 & 3989.4397381 & 2401.00 & 3158.9923526 & 2475.942000 & 326.0 & 18823.00 & 18497.00 &  1.61830527 &  2.1771907 & 17.177360816\\\\\n\tx &  8 & 53940 &    5.7311572 &    1.1217607 &    5.70 &    5.6600758 &    1.378818 &   0.0 &    10.74 &    10.74 &  0.37865528 & -0.6183029 &  0.004829974\\\\\n\ty &  9 & 53940 &    5.7345260 &    1.1421347 &    5.71 &    5.6627443 &    1.363992 &   0.0 &    58.90 &    58.90 &  2.43403134 & 91.2024980 &  0.004917698\\\\\n\tz & 10 & 53940 &    3.5387338 &    0.7056988 &    3.53 &    3.4948834 &    0.845082 &   0.0 &    31.80 &    31.80 &  1.52233789 & 47.0802865 &  0.003038533\\\\\n\\end{tabular}\n",
            "text/markdown": "\nA psych: 10 × 13\n\n| <!--/--> | vars &lt;int&gt; | n &lt;dbl&gt; | mean &lt;dbl&gt; | sd &lt;dbl&gt; | median &lt;dbl&gt; | trimmed &lt;dbl&gt; | mad &lt;dbl&gt; | min &lt;dbl&gt; | max &lt;dbl&gt; | range &lt;dbl&gt; | skew &lt;dbl&gt; | kurtosis &lt;dbl&gt; | se &lt;dbl&gt; |\n|---|---|---|---|---|---|---|---|---|---|---|---|---|---|\n| carat |  1 | 53940 |    0.7979397 |    0.4740112 |    0.70 |    0.7349655 |    0.474432 |   0.2 |     5.01 |     4.81 |  1.11658382 |  1.2562498 |  0.002040954 |\n| cut* |  2 | 53940 |    3.9040971 |    1.1165999 |    4.00 |    4.0424314 |    1.482600 |   1.0 |     5.00 |     4.00 | -0.71714057 | -0.3981442 |  0.004807753 |\n| color* |  3 | 53940 |    3.5941973 |    1.7011048 |    4.00 |    3.5526743 |    1.482600 |   1.0 |     7.00 |     6.00 |  0.18935538 | -0.8668722 |  0.007324460 |\n| clarity* |  4 | 53940 |    4.0510197 |    1.6471361 |    4.00 |    3.9144651 |    1.482600 |   1.0 |     8.00 |     7.00 |  0.55140687 | -0.3949375 |  0.007092086 |\n| depth |  5 | 53940 |   61.7494049 |    1.4326213 |   61.80 |   61.7846079 |    1.037820 |  43.0 |    79.00 |    36.00 | -0.08228945 |  5.7384473 |  0.006168448 |\n| table |  6 | 53940 |   57.4571839 |    2.2344906 |   57.00 |   57.3183514 |    1.482600 |  43.0 |    95.00 |    52.00 |  0.79685153 |  2.8012708 |  0.009621063 |\n| price |  7 | 53940 | 3932.7997219 | 3989.4397381 | 2401.00 | 3158.9923526 | 2475.942000 | 326.0 | 18823.00 | 18497.00 |  1.61830527 |  2.1771907 | 17.177360816 |\n| x |  8 | 53940 |    5.7311572 |    1.1217607 |    5.70 |    5.6600758 |    1.378818 |   0.0 |    10.74 |    10.74 |  0.37865528 | -0.6183029 |  0.004829974 |\n| y |  9 | 53940 |    5.7345260 |    1.1421347 |    5.71 |    5.6627443 |    1.363992 |   0.0 |    58.90 |    58.90 |  2.43403134 | 91.2024980 |  0.004917698 |\n| z | 10 | 53940 |    3.5387338 |    0.7056988 |    3.53 |    3.4948834 |    0.845082 |   0.0 |    31.80 |    31.80 |  1.52233789 | 47.0802865 |  0.003038533 |\n\n",
            "text/html": [
              "<table class=\"dataframe\">\n",
              "<caption>A psych: 10 × 13</caption>\n",
              "<thead>\n",
              "\t<tr><th></th><th scope=col>vars</th><th scope=col>n</th><th scope=col>mean</th><th scope=col>sd</th><th scope=col>median</th><th scope=col>trimmed</th><th scope=col>mad</th><th scope=col>min</th><th scope=col>max</th><th scope=col>range</th><th scope=col>skew</th><th scope=col>kurtosis</th><th scope=col>se</th></tr>\n",
              "\t<tr><th></th><th scope=col>&lt;int&gt;</th><th scope=col>&lt;dbl&gt;</th><th scope=col>&lt;dbl&gt;</th><th scope=col>&lt;dbl&gt;</th><th scope=col>&lt;dbl&gt;</th><th scope=col>&lt;dbl&gt;</th><th scope=col>&lt;dbl&gt;</th><th scope=col>&lt;dbl&gt;</th><th scope=col>&lt;dbl&gt;</th><th scope=col>&lt;dbl&gt;</th><th scope=col>&lt;dbl&gt;</th><th scope=col>&lt;dbl&gt;</th><th scope=col>&lt;dbl&gt;</th></tr>\n",
              "</thead>\n",
              "<tbody>\n",
              "\t<tr><th scope=row>carat</th><td> 1</td><td>53940</td><td>   0.7979397</td><td>   0.4740112</td><td>   0.70</td><td>   0.7349655</td><td>   0.474432</td><td>  0.2</td><td>    5.01</td><td>    4.81</td><td> 1.11658382</td><td> 1.2562498</td><td> 0.002040954</td></tr>\n",
              "\t<tr><th scope=row>cut*</th><td> 2</td><td>53940</td><td>   3.9040971</td><td>   1.1165999</td><td>   4.00</td><td>   4.0424314</td><td>   1.482600</td><td>  1.0</td><td>    5.00</td><td>    4.00</td><td>-0.71714057</td><td>-0.3981442</td><td> 0.004807753</td></tr>\n",
              "\t<tr><th scope=row>color*</th><td> 3</td><td>53940</td><td>   3.5941973</td><td>   1.7011048</td><td>   4.00</td><td>   3.5526743</td><td>   1.482600</td><td>  1.0</td><td>    7.00</td><td>    6.00</td><td> 0.18935538</td><td>-0.8668722</td><td> 0.007324460</td></tr>\n",
              "\t<tr><th scope=row>clarity*</th><td> 4</td><td>53940</td><td>   4.0510197</td><td>   1.6471361</td><td>   4.00</td><td>   3.9144651</td><td>   1.482600</td><td>  1.0</td><td>    8.00</td><td>    7.00</td><td> 0.55140687</td><td>-0.3949375</td><td> 0.007092086</td></tr>\n",
              "\t<tr><th scope=row>depth</th><td> 5</td><td>53940</td><td>  61.7494049</td><td>   1.4326213</td><td>  61.80</td><td>  61.7846079</td><td>   1.037820</td><td> 43.0</td><td>   79.00</td><td>   36.00</td><td>-0.08228945</td><td> 5.7384473</td><td> 0.006168448</td></tr>\n",
              "\t<tr><th scope=row>table</th><td> 6</td><td>53940</td><td>  57.4571839</td><td>   2.2344906</td><td>  57.00</td><td>  57.3183514</td><td>   1.482600</td><td> 43.0</td><td>   95.00</td><td>   52.00</td><td> 0.79685153</td><td> 2.8012708</td><td> 0.009621063</td></tr>\n",
              "\t<tr><th scope=row>price</th><td> 7</td><td>53940</td><td>3932.7997219</td><td>3989.4397381</td><td>2401.00</td><td>3158.9923526</td><td>2475.942000</td><td>326.0</td><td>18823.00</td><td>18497.00</td><td> 1.61830527</td><td> 2.1771907</td><td>17.177360816</td></tr>\n",
              "\t<tr><th scope=row>x</th><td> 8</td><td>53940</td><td>   5.7311572</td><td>   1.1217607</td><td>   5.70</td><td>   5.6600758</td><td>   1.378818</td><td>  0.0</td><td>   10.74</td><td>   10.74</td><td> 0.37865528</td><td>-0.6183029</td><td> 0.004829974</td></tr>\n",
              "\t<tr><th scope=row>y</th><td> 9</td><td>53940</td><td>   5.7345260</td><td>   1.1421347</td><td>   5.71</td><td>   5.6627443</td><td>   1.363992</td><td>  0.0</td><td>   58.90</td><td>   58.90</td><td> 2.43403134</td><td>91.2024980</td><td> 0.004917698</td></tr>\n",
              "\t<tr><th scope=row>z</th><td>10</td><td>53940</td><td>   3.5387338</td><td>   0.7056988</td><td>   3.53</td><td>   3.4948834</td><td>   0.845082</td><td>  0.0</td><td>   31.80</td><td>   31.80</td><td> 1.52233789</td><td>47.0802865</td><td> 0.003038533</td></tr>\n",
              "</tbody>\n",
              "</table>\n"
            ]
          },
          "metadata": {
            "tags": []
          }
        }
      ]
    },
    {
      "cell_type": "markdown",
      "metadata": {
        "id": "-0kbuQ3cthTz"
      },
      "source": [
        "### 3. Compute summary statistics (means, median, min, max, standard deviations, counts for categorical variables). Are there any missing values?"
      ]
    },
    {
      "cell_type": "markdown",
      "metadata": {
        "id": "1KqFS-NxthlQ"
      },
      "source": [
        ""
      ]
    },
    {
      "cell_type": "code",
      "metadata": {
        "id": "oMkGvONjtkwa"
      },
      "source": [
        ""
      ],
      "execution_count": null,
      "outputs": []
    },
    {
      "cell_type": "code",
      "metadata": {
        "id": "Fh1LhEPgtk9K"
      },
      "source": [
        ""
      ],
      "execution_count": null,
      "outputs": []
    },
    {
      "cell_type": "markdown",
      "metadata": {
        "id": "TsOfFuYMIagH"
      },
      "source": [
        "### Visualization"
      ]
    },
    {
      "cell_type": "markdown",
      "metadata": {
        "id": "hWBWZYSBIa2c"
      },
      "source": [
        ""
      ]
    },
    {
      "cell_type": "code",
      "metadata": {
        "id": "ShYDI4z1IhxD"
      },
      "source": [
        "h <- ggplot(diamonds, aes(carat, price))"
      ],
      "execution_count": 18,
      "outputs": []
    },
    {
      "cell_type": "code",
      "metadata": {
        "id": "eXxjfLhRLT8o"
      },
      "source": [
        "e <- ggplot(msleep, aes(sleep_total, bodywt))"
      ],
      "execution_count": 19,
      "outputs": []
    },
    {
      "cell_type": "code",
      "metadata": {
        "colab": {
          "base_uri": "https://localhost:8080/",
          "height": 437
        },
        "id": "9Nucspf1IvTo",
        "outputId": "f3cb9d11-c9c3-4dc5-f50c-392551575207"
      },
      "source": [
        "h + geom_area()"
      ],
      "execution_count": 15,
      "outputs": [
        {
          "output_type": "display_data",
          "data": {
            "image/png": "[encoded data removed]",
            "text/plain": [
              "plot without title"
            ]
          },
          "metadata": {
            "tags": [],
            "image/png": {
              "width": 420,
              "height": 420
            }
          }
        }
      ]
    },
    {
      "cell_type": "code",
      "metadata": {
        "colab": {
          "base_uri": "https://localhost:8080/",
          "height": 437
        },
        "id": "3QR7Lh2LJSNw",
        "outputId": "4eeb9811-ab51-406b-fe82-46d6991c6b62"
      },
      "source": [
        "h + geom_line()"
      ],
      "execution_count": 16,
      "outputs": [
        {
          "output_type": "display_data",
          "data": {
            "image/png": "[encoded data removed]",
            "text/plain": [
              "plot without title"
            ]
          },
          "metadata": {
            "tags": [],
            "image/png": {
              "width": 420,
              "height": 420
            }
          }
        }
      ]
    },
    {
      "cell_type": "code",
      "metadata": {
        "colab": {
          "base_uri": "https://localhost:8080/",
          "height": 437
        },
        "id": "HSGewLsQJeGo",
        "outputId": "9cd1cb34-9b03-4a0e-e7c3-775497a4b3f6"
      },
      "source": [
        "e + geom_point()"
      ],
      "execution_count": 20,
      "outputs": [
        {
          "output_type": "display_data",
          "data": {
            "image/png": "[encoded data removed]",
            "text/plain": [
              "plot without title"
            ]
          },
          "metadata": {
            "tags": [],
            "image/png": {
              "width": 420,
              "height": 420
            }
          }
        }
      ]
    },
    {
      "cell_type": "code",
      "metadata": {
        "colab": {
          "base_uri": "https://localhost:8080/",
          "height": 437
        },
        "id": "q-3DduhAMGIs",
        "outputId": "8b993f32-3382-4911-8b66-4a3a27f1634e"
      },
      "source": [
        "e + geom_col()"
      ],
      "execution_count": 22,
      "outputs": [
        {
          "output_type": "display_data",
          "data": {
            "image/png": "[encoded data removed]",
            "text/plain": [
              "plot without title"
            ]
          },
          "metadata": {
            "tags": [],
            "image/png": {
              "width": 420,
              "height": 420
            }
          }
        }
      ]
    },
    {
      "cell_type": "code",
      "metadata": {
        "colab": {
          "base_uri": "https://localhost:8080/",
          "height": 472
        },
        "id": "B12YdQfdMM_f",
        "outputId": "649f77b5-9517-4775-a6a8-67a4fc07e132"
      },
      "source": [
        "e + geom_boxplot()"
      ],
      "execution_count": 24,
      "outputs": [
        {
          "output_type": "stream",
          "text": [
            "Warning message:\n",
            "“Continuous x aesthetic -- did you forget aes(group=...)?”\n"
          ],
          "name": "stderr"
        },
        {
          "output_type": "display_data",
          "data": {
            "image/png": "[encoded data removed]",
            "text/plain": [
              "plot without title"
            ]
          },
          "metadata": {
            "tags": [],
            "image/png": {
              "width": 420,
              "height": 420
            }
          }
        }
      ]
    },
    {
      "cell_type": "code",
      "metadata": {
        "id": "Vew1CDWlMYze"
      },
      "source": [
        ""
      ],
      "execution_count": 27,
      "outputs": []
    },
    {
      "cell_type": "code",
      "metadata": {
        "id": "Us8szIlZNCTo"
      },
      "source": [
        ""
      ],
      "execution_count": null,
      "outputs": []
    },
    {
      "cell_type": "markdown",
      "metadata": {
        "id": "D47emsthtlYb"
      },
      "source": [
        "### R experiments - other"
      ]
    },
    {
      "cell_type": "code",
      "metadata": {
        "id": "pSpVdzaWErmO",
        "colab": {
          "base_uri": "https://localhost:8080/",
          "height": 243
        },
        "outputId": "4217c063-668f-457b-a592-434cea99b641"
      },
      "source": [
        "data1 <- read.csv(\"https://raw.githubusercontent.com/dnzengou/du_r/main/r-assignment1/data/startup-kpi_mgs2020_review-call1.csv\")\r\n",
        "\r\n",
        "head(data1, 3)"
      ],
      "execution_count": 29,
      "outputs": [
        {
          "output_type": "display_data",
          "data": {
            "text/plain": [
              "  X                 startup1 startup2 startup3 startup4 startup5 startup6\n",
              "1 Innovation        2.0      3.0      2        4.0      2.5      2.5     \n",
              "2 Market potential  2.0      2.5      3        3.0      3.5      2.5     \n",
              "3 Galileo relevance 2.5      2.5      3        2.5      3.5      2.5     \n",
              "  startup7 startup8 startup9 ⋯ startup41 startup42 startup43 startup44\n",
              "1 3.0      3.0      3.0      ⋯ 3.5       2.5       3.5       3.0      \n",
              "2 2.0      2.5      2.5      ⋯ 3.0       2.0       3.5       2.0      \n",
              "3 2.5      2.0      2.5      ⋯ 4.0       1.5       3.5       3.5      \n",
              "  startup45 startup46 startup47 startup48 startup49 startup50\n",
              "1 3         4.0       3.5       3.5       3.0       2.0      \n",
              "2 3         2.5       2.0       2.0       3.0       2.0      \n",
              "3 3         3.5       2.5       2.0       3.5       2.5      "
            ],
            "text/latex": "A data.frame: 3 × 51\n\\begin{tabular}{r|lllllllllllllllllllll}\n  & X & startup1 & startup2 & startup3 & startup4 & startup5 & startup6 & startup7 & startup8 & startup9 & ⋯ & startup41 & startup42 & startup43 & startup44 & startup45 & startup46 & startup47 & startup48 & startup49 & startup50\\\\\n  & <chr> & <dbl> & <dbl> & <dbl> & <dbl> & <dbl> & <dbl> & <dbl> & <dbl> & <dbl> & ⋯ & <dbl> & <dbl> & <dbl> & <dbl> & <dbl> & <dbl> & <dbl> & <dbl> & <dbl> & <dbl>\\\\\n\\hline\n\t1 & Innovation        & 2.0 & 3.0 & 2 & 4.0 & 2.5 & 2.5 & 3.0 & 3.0 & 3.0 & ⋯ & 3.5 & 2.5 & 3.5 & 3.0 & 3 & 4.0 & 3.5 & 3.5 & 3.0 & 2.0\\\\\n\t2 & Market potential  & 2.0 & 2.5 & 3 & 3.0 & 3.5 & 2.5 & 2.0 & 2.5 & 2.5 & ⋯ & 3.0 & 2.0 & 3.5 & 2.0 & 3 & 2.5 & 2.0 & 2.0 & 3.0 & 2.0\\\\\n\t3 & Galileo relevance & 2.5 & 2.5 & 3 & 2.5 & 3.5 & 2.5 & 2.5 & 2.0 & 2.5 & ⋯ & 4.0 & 1.5 & 3.5 & 3.5 & 3 & 3.5 & 2.5 & 2.0 & 3.5 & 2.5\\\\\n\\end{tabular}\n",
            "text/markdown": "\nA data.frame: 3 × 51\n\n| <!--/--> | X &lt;chr&gt; | startup1 &lt;dbl&gt; | startup2 &lt;dbl&gt; | startup3 &lt;dbl&gt; | startup4 &lt;dbl&gt; | startup5 &lt;dbl&gt; | startup6 &lt;dbl&gt; | startup7 &lt;dbl&gt; | startup8 &lt;dbl&gt; | startup9 &lt;dbl&gt; | ⋯ ⋯ | startup41 &lt;dbl&gt; | startup42 &lt;dbl&gt; | startup43 &lt;dbl&gt; | startup44 &lt;dbl&gt; | startup45 &lt;dbl&gt; | startup46 &lt;dbl&gt; | startup47 &lt;dbl&gt; | startup48 &lt;dbl&gt; | startup49 &lt;dbl&gt; | startup50 &lt;dbl&gt; |\n|---|---|---|---|---|---|---|---|---|---|---|---|---|---|---|---|---|---|---|---|---|---|\n| 1 | Innovation        | 2.0 | 3.0 | 2 | 4.0 | 2.5 | 2.5 | 3.0 | 3.0 | 3.0 | ⋯ | 3.5 | 2.5 | 3.5 | 3.0 | 3 | 4.0 | 3.5 | 3.5 | 3.0 | 2.0 |\n| 2 | Market potential  | 2.0 | 2.5 | 3 | 3.0 | 3.5 | 2.5 | 2.0 | 2.5 | 2.5 | ⋯ | 3.0 | 2.0 | 3.5 | 2.0 | 3 | 2.5 | 2.0 | 2.0 | 3.0 | 2.0 |\n| 3 | Galileo relevance | 2.5 | 2.5 | 3 | 2.5 | 3.5 | 2.5 | 2.5 | 2.0 | 2.5 | ⋯ | 4.0 | 1.5 | 3.5 | 3.5 | 3 | 3.5 | 2.5 | 2.0 | 3.5 | 2.5 |\n\n",
            "text/html": [
              "<table class=\"dataframe\">\n",
              "<caption>A data.frame: 3 × 51</caption>\n",
              "<thead>\n",
              "\t<tr><th></th><th scope=col>X</th><th scope=col>startup1</th><th scope=col>startup2</th><th scope=col>startup3</th><th scope=col>startup4</th><th scope=col>startup5</th><th scope=col>startup6</th><th scope=col>startup7</th><th scope=col>startup8</th><th scope=col>startup9</th><th scope=col>⋯</th><th scope=col>startup41</th><th scope=col>startup42</th><th scope=col>startup43</th><th scope=col>startup44</th><th scope=col>startup45</th><th scope=col>startup46</th><th scope=col>startup47</th><th scope=col>startup48</th><th scope=col>startup49</th><th scope=col>startup50</th></tr>\n",
              "\t<tr><th></th><th scope=col>&lt;chr&gt;</th><th scope=col>&lt;dbl&gt;</th><th scope=col>&lt;dbl&gt;</th><th scope=col>&lt;dbl&gt;</th><th scope=col>&lt;dbl&gt;</th><th scope=col>&lt;dbl&gt;</th><th scope=col>&lt;dbl&gt;</th><th scope=col>&lt;dbl&gt;</th><th scope=col>&lt;dbl&gt;</th><th scope=col>&lt;dbl&gt;</th><th scope=col>⋯</th><th scope=col>&lt;dbl&gt;</th><th scope=col>&lt;dbl&gt;</th><th scope=col>&lt;dbl&gt;</th><th scope=col>&lt;dbl&gt;</th><th scope=col>&lt;dbl&gt;</th><th scope=col>&lt;dbl&gt;</th><th scope=col>&lt;dbl&gt;</th><th scope=col>&lt;dbl&gt;</th><th scope=col>&lt;dbl&gt;</th><th scope=col>&lt;dbl&gt;</th></tr>\n",
              "</thead>\n",
              "<tbody>\n",
              "\t<tr><th scope=row>1</th><td>Innovation       </td><td>2.0</td><td>3.0</td><td>2</td><td>4.0</td><td>2.5</td><td>2.5</td><td>3.0</td><td>3.0</td><td>3.0</td><td>⋯</td><td>3.5</td><td>2.5</td><td>3.5</td><td>3.0</td><td>3</td><td>4.0</td><td>3.5</td><td>3.5</td><td>3.0</td><td>2.0</td></tr>\n",
              "\t<tr><th scope=row>2</th><td>Market potential </td><td>2.0</td><td>2.5</td><td>3</td><td>3.0</td><td>3.5</td><td>2.5</td><td>2.0</td><td>2.5</td><td>2.5</td><td>⋯</td><td>3.0</td><td>2.0</td><td>3.5</td><td>2.0</td><td>3</td><td>2.5</td><td>2.0</td><td>2.0</td><td>3.0</td><td>2.0</td></tr>\n",
              "\t<tr><th scope=row>3</th><td>Galileo relevance</td><td>2.5</td><td>2.5</td><td>3</td><td>2.5</td><td>3.5</td><td>2.5</td><td>2.5</td><td>2.0</td><td>2.5</td><td>⋯</td><td>4.0</td><td>1.5</td><td>3.5</td><td>3.5</td><td>3</td><td>3.5</td><td>2.5</td><td>2.0</td><td>3.5</td><td>2.5</td></tr>\n",
              "</tbody>\n",
              "</table>\n"
            ]
          },
          "metadata": {
            "tags": []
          }
        }
      ]
    },
    {
      "cell_type": "code",
      "metadata": {
        "id": "a3RH5F7wSeay",
        "colab": {
          "base_uri": "https://localhost:8080/",
          "height": 219
        },
        "outputId": "89abc526-b6fd-4b78-b308-d2b3bc522d83"
      },
      "source": [
        "data1.t <- t(data1)\r\n",
        "\r\n",
        "head(data1.t)"
      ],
      "execution_count": 30,
      "outputs": [
        {
          "output_type": "display_data",
          "data": {
            "text/plain": [
              "         [,1]       [,2]             [,3]              [,4]      [,5]      \n",
              "X        Innovation Market potential Galileo relevance Viability Feasiblity\n",
              "startup1  2.0        2.0              2.5               2.0       3.0      \n",
              "startup2  3.0        2.5              2.5               2.5       3.5      \n",
              "startup3  2.0        3.0              3.0               2.0       3.5      \n",
              "startup4  4.0        3.0              2.5               2.5       3.5      \n",
              "startup5  2.5        3.5              3.5               3.0       3.5      \n",
              "         [,6]   [,7]         [,8]   \n",
              "X        Impact Presentation TOTAL 1\n",
              "startup1  2.5    1.5         15.5   \n",
              "startup2  3.5    3.0         20.5   \n",
              "startup3  3.5    2.5         19.5   \n",
              "startup4  2.0    3.0         20.5   \n",
              "startup5  3.0    3.0         22.0   "
            ],
            "text/latex": "A matrix: 6 × 8 of type chr\n\\begin{tabular}{r|llllllll}\n\tX & Innovation & Market potential & Galileo relevance & Viability & Feasiblity & Impact & Presentation & TOTAL 1\\\\\n\tstartup1 &  2.0       &  2.0             &  2.5              &  2.0      &  3.0       &  2.5   &  1.5         & 15.5   \\\\\n\tstartup2 &  3.0       &  2.5             &  2.5              &  2.5      &  3.5       &  3.5   &  3.0         & 20.5   \\\\\n\tstartup3 &  2.0       &  3.0             &  3.0              &  2.0      &  3.5       &  3.5   &  2.5         & 19.5   \\\\\n\tstartup4 &  4.0       &  3.0             &  2.5              &  2.5      &  3.5       &  2.0   &  3.0         & 20.5   \\\\\n\tstartup5 &  2.5       &  3.5             &  3.5              &  3.0      &  3.5       &  3.0   &  3.0         & 22.0   \\\\\n\\end{tabular}\n",
            "text/markdown": "\nA matrix: 6 × 8 of type chr\n\n| X | Innovation | Market potential | Galileo relevance | Viability | Feasiblity | Impact | Presentation | TOTAL 1 |\n| startup1 |  2.0       |  2.0             |  2.5              |  2.0      |  3.0       |  2.5   |  1.5         | 15.5    |\n| startup2 |  3.0       |  2.5             |  2.5              |  2.5      |  3.5       |  3.5   |  3.0         | 20.5    |\n| startup3 |  2.0       |  3.0             |  3.0              |  2.0      |  3.5       |  3.5   |  2.5         | 19.5    |\n| startup4 |  4.0       |  3.0             |  2.5              |  2.5      |  3.5       |  2.0   |  3.0         | 20.5    |\n| startup5 |  2.5       |  3.5             |  3.5              |  3.0      |  3.5       |  3.0   |  3.0         | 22.0    |\n\n",
            "text/html": [
              "<table class=\"dataframe\">\n",
              "<caption>A matrix: 6 × 8 of type chr</caption>\n",
              "<tbody>\n",
              "\t<tr><th scope=row>X</th><td>Innovation</td><td>Market potential</td><td>Galileo relevance</td><td>Viability</td><td>Feasiblity</td><td>Impact</td><td>Presentation</td><td>TOTAL 1</td></tr>\n",
              "\t<tr><th scope=row>startup1</th><td> 2.0      </td><td> 2.0            </td><td> 2.5             </td><td> 2.0     </td><td> 3.0      </td><td> 2.5  </td><td> 1.5        </td><td>15.5   </td></tr>\n",
              "\t<tr><th scope=row>startup2</th><td> 3.0      </td><td> 2.5            </td><td> 2.5             </td><td> 2.5     </td><td> 3.5      </td><td> 3.5  </td><td> 3.0        </td><td>20.5   </td></tr>\n",
              "\t<tr><th scope=row>startup3</th><td> 2.0      </td><td> 3.0            </td><td> 3.0             </td><td> 2.0     </td><td> 3.5      </td><td> 3.5  </td><td> 2.5        </td><td>19.5   </td></tr>\n",
              "\t<tr><th scope=row>startup4</th><td> 4.0      </td><td> 3.0            </td><td> 2.5             </td><td> 2.5     </td><td> 3.5      </td><td> 2.0  </td><td> 3.0        </td><td>20.5   </td></tr>\n",
              "\t<tr><th scope=row>startup5</th><td> 2.5      </td><td> 3.5            </td><td> 3.5             </td><td> 3.0     </td><td> 3.5      </td><td> 3.0  </td><td> 3.0        </td><td>22.0   </td></tr>\n",
              "</tbody>\n",
              "</table>\n"
            ]
          },
          "metadata": {
            "tags": []
          }
        }
      ]
    },
    {
      "cell_type": "code",
      "metadata": {
        "id": "ClFONaKmTIf_",
        "colab": {
          "base_uri": "https://localhost:8080/",
          "height": 189
        },
        "outputId": "26d69038-777d-43c6-b40c-512a96c8c8ec"
      },
      "source": [
        "df1 <- data.frame(data1.t)\r\n",
        "\r\n",
        "tail(df1, 3)"
      ],
      "execution_count": 31,
      "outputs": [
        {
          "output_type": "display_data",
          "data": {
            "text/plain": [
              "          X1   X2   X3   X4   X5   X6   X7   X8  \n",
              "startup48  3.5  2.0  2.0  2.0  2.5  3.5  3.0 18.5\n",
              "startup49  3.0  3.0  3.5  2.5  3.5  3.5  3.5 22.5\n",
              "startup50  2.0  2.0  2.5  2.0  2.0  2.5  2.5 15.5"
            ],
            "text/latex": "A data.frame: 3 × 8\n\\begin{tabular}{r|llllllll}\n  & X1 & X2 & X3 & X4 & X5 & X6 & X7 & X8\\\\\n  & <chr> & <chr> & <chr> & <chr> & <chr> & <chr> & <chr> & <chr>\\\\\n\\hline\n\tstartup48 &  3.5 &  2.0 &  2.0 &  2.0 &  2.5 &  3.5 &  3.0 & 18.5\\\\\n\tstartup49 &  3.0 &  3.0 &  3.5 &  2.5 &  3.5 &  3.5 &  3.5 & 22.5\\\\\n\tstartup50 &  2.0 &  2.0 &  2.5 &  2.0 &  2.0 &  2.5 &  2.5 & 15.5\\\\\n\\end{tabular}\n",
            "text/markdown": "\nA data.frame: 3 × 8\n\n| <!--/--> | X1 &lt;chr&gt; | X2 &lt;chr&gt; | X3 &lt;chr&gt; | X4 &lt;chr&gt; | X5 &lt;chr&gt; | X6 &lt;chr&gt; | X7 &lt;chr&gt; | X8 &lt;chr&gt; |\n|---|---|---|---|---|---|---|---|---|\n| startup48 |  3.5 |  2.0 |  2.0 |  2.0 |  2.5 |  3.5 |  3.0 | 18.5 |\n| startup49 |  3.0 |  3.0 |  3.5 |  2.5 |  3.5 |  3.5 |  3.5 | 22.5 |\n| startup50 |  2.0 |  2.0 |  2.5 |  2.0 |  2.0 |  2.5 |  2.5 | 15.5 |\n\n",
            "text/html": [
              "<table class=\"dataframe\">\n",
              "<caption>A data.frame: 3 × 8</caption>\n",
              "<thead>\n",
              "\t<tr><th></th><th scope=col>X1</th><th scope=col>X2</th><th scope=col>X3</th><th scope=col>X4</th><th scope=col>X5</th><th scope=col>X6</th><th scope=col>X7</th><th scope=col>X8</th></tr>\n",
              "\t<tr><th></th><th scope=col>&lt;chr&gt;</th><th scope=col>&lt;chr&gt;</th><th scope=col>&lt;chr&gt;</th><th scope=col>&lt;chr&gt;</th><th scope=col>&lt;chr&gt;</th><th scope=col>&lt;chr&gt;</th><th scope=col>&lt;chr&gt;</th><th scope=col>&lt;chr&gt;</th></tr>\n",
              "</thead>\n",
              "<tbody>\n",
              "\t<tr><th scope=row>startup48</th><td> 3.5</td><td> 2.0</td><td> 2.0</td><td> 2.0</td><td> 2.5</td><td> 3.5</td><td> 3.0</td><td>18.5</td></tr>\n",
              "\t<tr><th scope=row>startup49</th><td> 3.0</td><td> 3.0</td><td> 3.5</td><td> 2.5</td><td> 3.5</td><td> 3.5</td><td> 3.5</td><td>22.5</td></tr>\n",
              "\t<tr><th scope=row>startup50</th><td> 2.0</td><td> 2.0</td><td> 2.5</td><td> 2.0</td><td> 2.0</td><td> 2.5</td><td> 2.5</td><td>15.5</td></tr>\n",
              "</tbody>\n",
              "</table>\n"
            ]
          },
          "metadata": {
            "tags": []
          }
        }
      ]
    },
    {
      "cell_type": "code",
      "metadata": {
        "id": "68lgwqSWFwE-",
        "colab": {
          "base_uri": "https://localhost:8080/",
          "height": 243
        },
        "outputId": "b993c23f-6191-4084-9763-73f078745e5b"
      },
      "source": [
        "data2 <- read.csv(\"https://raw.githubusercontent.com/dnzengou/du_r/main/r-assignment1/data/startup-kpi_mgs2020_review-call1.csv\")\r\n",
        "\r\n",
        "head(data2, 3)"
      ],
      "execution_count": 33,
      "outputs": [
        {
          "output_type": "display_data",
          "data": {
            "text/plain": [
              "  X                 startup1 startup2 startup3 startup4 startup5 startup6\n",
              "1 Innovation        2.0      3.0      2        4.0      2.5      2.5     \n",
              "2 Market potential  2.0      2.5      3        3.0      3.5      2.5     \n",
              "3 Galileo relevance 2.5      2.5      3        2.5      3.5      2.5     \n",
              "  startup7 startup8 startup9 ⋯ startup41 startup42 startup43 startup44\n",
              "1 3.0      3.0      3.0      ⋯ 3.5       2.5       3.5       3.0      \n",
              "2 2.0      2.5      2.5      ⋯ 3.0       2.0       3.5       2.0      \n",
              "3 2.5      2.0      2.5      ⋯ 4.0       1.5       3.5       3.5      \n",
              "  startup45 startup46 startup47 startup48 startup49 startup50\n",
              "1 3         4.0       3.5       3.5       3.0       2.0      \n",
              "2 3         2.5       2.0       2.0       3.0       2.0      \n",
              "3 3         3.5       2.5       2.0       3.5       2.5      "
            ],
            "text/latex": "A data.frame: 3 × 51\n\\begin{tabular}{r|lllllllllllllllllllll}\n  & X & startup1 & startup2 & startup3 & startup4 & startup5 & startup6 & startup7 & startup8 & startup9 & ⋯ & startup41 & startup42 & startup43 & startup44 & startup45 & startup46 & startup47 & startup48 & startup49 & startup50\\\\\n  & <chr> & <dbl> & <dbl> & <dbl> & <dbl> & <dbl> & <dbl> & <dbl> & <dbl> & <dbl> & ⋯ & <dbl> & <dbl> & <dbl> & <dbl> & <dbl> & <dbl> & <dbl> & <dbl> & <dbl> & <dbl>\\\\\n\\hline\n\t1 & Innovation        & 2.0 & 3.0 & 2 & 4.0 & 2.5 & 2.5 & 3.0 & 3.0 & 3.0 & ⋯ & 3.5 & 2.5 & 3.5 & 3.0 & 3 & 4.0 & 3.5 & 3.5 & 3.0 & 2.0\\\\\n\t2 & Market potential  & 2.0 & 2.5 & 3 & 3.0 & 3.5 & 2.5 & 2.0 & 2.5 & 2.5 & ⋯ & 3.0 & 2.0 & 3.5 & 2.0 & 3 & 2.5 & 2.0 & 2.0 & 3.0 & 2.0\\\\\n\t3 & Galileo relevance & 2.5 & 2.5 & 3 & 2.5 & 3.5 & 2.5 & 2.5 & 2.0 & 2.5 & ⋯ & 4.0 & 1.5 & 3.5 & 3.5 & 3 & 3.5 & 2.5 & 2.0 & 3.5 & 2.5\\\\\n\\end{tabular}\n",
            "text/markdown": "\nA data.frame: 3 × 51\n\n| <!--/--> | X &lt;chr&gt; | startup1 &lt;dbl&gt; | startup2 &lt;dbl&gt; | startup3 &lt;dbl&gt; | startup4 &lt;dbl&gt; | startup5 &lt;dbl&gt; | startup6 &lt;dbl&gt; | startup7 &lt;dbl&gt; | startup8 &lt;dbl&gt; | startup9 &lt;dbl&gt; | ⋯ ⋯ | startup41 &lt;dbl&gt; | startup42 &lt;dbl&gt; | startup43 &lt;dbl&gt; | startup44 &lt;dbl&gt; | startup45 &lt;dbl&gt; | startup46 &lt;dbl&gt; | startup47 &lt;dbl&gt; | startup48 &lt;dbl&gt; | startup49 &lt;dbl&gt; | startup50 &lt;dbl&gt; |\n|---|---|---|---|---|---|---|---|---|---|---|---|---|---|---|---|---|---|---|---|---|---|\n| 1 | Innovation        | 2.0 | 3.0 | 2 | 4.0 | 2.5 | 2.5 | 3.0 | 3.0 | 3.0 | ⋯ | 3.5 | 2.5 | 3.5 | 3.0 | 3 | 4.0 | 3.5 | 3.5 | 3.0 | 2.0 |\n| 2 | Market potential  | 2.0 | 2.5 | 3 | 3.0 | 3.5 | 2.5 | 2.0 | 2.5 | 2.5 | ⋯ | 3.0 | 2.0 | 3.5 | 2.0 | 3 | 2.5 | 2.0 | 2.0 | 3.0 | 2.0 |\n| 3 | Galileo relevance | 2.5 | 2.5 | 3 | 2.5 | 3.5 | 2.5 | 2.5 | 2.0 | 2.5 | ⋯ | 4.0 | 1.5 | 3.5 | 3.5 | 3 | 3.5 | 2.5 | 2.0 | 3.5 | 2.5 |\n\n",
            "text/html": [
              "<table class=\"dataframe\">\n",
              "<caption>A data.frame: 3 × 51</caption>\n",
              "<thead>\n",
              "\t<tr><th></th><th scope=col>X</th><th scope=col>startup1</th><th scope=col>startup2</th><th scope=col>startup3</th><th scope=col>startup4</th><th scope=col>startup5</th><th scope=col>startup6</th><th scope=col>startup7</th><th scope=col>startup8</th><th scope=col>startup9</th><th scope=col>⋯</th><th scope=col>startup41</th><th scope=col>startup42</th><th scope=col>startup43</th><th scope=col>startup44</th><th scope=col>startup45</th><th scope=col>startup46</th><th scope=col>startup47</th><th scope=col>startup48</th><th scope=col>startup49</th><th scope=col>startup50</th></tr>\n",
              "\t<tr><th></th><th scope=col>&lt;chr&gt;</th><th scope=col>&lt;dbl&gt;</th><th scope=col>&lt;dbl&gt;</th><th scope=col>&lt;dbl&gt;</th><th scope=col>&lt;dbl&gt;</th><th scope=col>&lt;dbl&gt;</th><th scope=col>&lt;dbl&gt;</th><th scope=col>&lt;dbl&gt;</th><th scope=col>&lt;dbl&gt;</th><th scope=col>&lt;dbl&gt;</th><th scope=col>⋯</th><th scope=col>&lt;dbl&gt;</th><th scope=col>&lt;dbl&gt;</th><th scope=col>&lt;dbl&gt;</th><th scope=col>&lt;dbl&gt;</th><th scope=col>&lt;dbl&gt;</th><th scope=col>&lt;dbl&gt;</th><th scope=col>&lt;dbl&gt;</th><th scope=col>&lt;dbl&gt;</th><th scope=col>&lt;dbl&gt;</th><th scope=col>&lt;dbl&gt;</th></tr>\n",
              "</thead>\n",
              "<tbody>\n",
              "\t<tr><th scope=row>1</th><td>Innovation       </td><td>2.0</td><td>3.0</td><td>2</td><td>4.0</td><td>2.5</td><td>2.5</td><td>3.0</td><td>3.0</td><td>3.0</td><td>⋯</td><td>3.5</td><td>2.5</td><td>3.5</td><td>3.0</td><td>3</td><td>4.0</td><td>3.5</td><td>3.5</td><td>3.0</td><td>2.0</td></tr>\n",
              "\t<tr><th scope=row>2</th><td>Market potential </td><td>2.0</td><td>2.5</td><td>3</td><td>3.0</td><td>3.5</td><td>2.5</td><td>2.0</td><td>2.5</td><td>2.5</td><td>⋯</td><td>3.0</td><td>2.0</td><td>3.5</td><td>2.0</td><td>3</td><td>2.5</td><td>2.0</td><td>2.0</td><td>3.0</td><td>2.0</td></tr>\n",
              "\t<tr><th scope=row>3</th><td>Galileo relevance</td><td>2.5</td><td>2.5</td><td>3</td><td>2.5</td><td>3.5</td><td>2.5</td><td>2.5</td><td>2.0</td><td>2.5</td><td>⋯</td><td>4.0</td><td>1.5</td><td>3.5</td><td>3.5</td><td>3</td><td>3.5</td><td>2.5</td><td>2.0</td><td>3.5</td><td>2.5</td></tr>\n",
              "</tbody>\n",
              "</table>\n"
            ]
          },
          "metadata": {
            "tags": []
          }
        }
      ]
    },
    {
      "cell_type": "code",
      "metadata": {
        "id": "aDm_FfJTSoYi",
        "colab": {
          "base_uri": "https://localhost:8080/",
          "height": 219
        },
        "outputId": "5d9d53cd-9185-411f-ff48-ec4cdca5ead7"
      },
      "source": [
        "data2.t <- t(data2)\r\n",
        "\r\n",
        "head(data2.t)"
      ],
      "execution_count": 34,
      "outputs": [
        {
          "output_type": "display_data",
          "data": {
            "text/plain": [
              "         [,1]       [,2]             [,3]              [,4]      [,5]      \n",
              "X        Innovation Market potential Galileo relevance Viability Feasiblity\n",
              "startup1  2.0        2.0              2.5               2.0       3.0      \n",
              "startup2  3.0        2.5              2.5               2.5       3.5      \n",
              "startup3  2.0        3.0              3.0               2.0       3.5      \n",
              "startup4  4.0        3.0              2.5               2.5       3.5      \n",
              "startup5  2.5        3.5              3.5               3.0       3.5      \n",
              "         [,6]   [,7]         [,8]   \n",
              "X        Impact Presentation TOTAL 1\n",
              "startup1  2.5    1.5         15.5   \n",
              "startup2  3.5    3.0         20.5   \n",
              "startup3  3.5    2.5         19.5   \n",
              "startup4  2.0    3.0         20.5   \n",
              "startup5  3.0    3.0         22.0   "
            ],
            "text/latex": "A matrix: 6 × 8 of type chr\n\\begin{tabular}{r|llllllll}\n\tX & Innovation & Market potential & Galileo relevance & Viability & Feasiblity & Impact & Presentation & TOTAL 1\\\\\n\tstartup1 &  2.0       &  2.0             &  2.5              &  2.0      &  3.0       &  2.5   &  1.5         & 15.5   \\\\\n\tstartup2 &  3.0       &  2.5             &  2.5              &  2.5      &  3.5       &  3.5   &  3.0         & 20.5   \\\\\n\tstartup3 &  2.0       &  3.0             &  3.0              &  2.0      &  3.5       &  3.5   &  2.5         & 19.5   \\\\\n\tstartup4 &  4.0       &  3.0             &  2.5              &  2.5      &  3.5       &  2.0   &  3.0         & 20.5   \\\\\n\tstartup5 &  2.5       &  3.5             &  3.5              &  3.0      &  3.5       &  3.0   &  3.0         & 22.0   \\\\\n\\end{tabular}\n",
            "text/markdown": "\nA matrix: 6 × 8 of type chr\n\n| X | Innovation | Market potential | Galileo relevance | Viability | Feasiblity | Impact | Presentation | TOTAL 1 |\n| startup1 |  2.0       |  2.0             |  2.5              |  2.0      |  3.0       |  2.5   |  1.5         | 15.5    |\n| startup2 |  3.0       |  2.5             |  2.5              |  2.5      |  3.5       |  3.5   |  3.0         | 20.5    |\n| startup3 |  2.0       |  3.0             |  3.0              |  2.0      |  3.5       |  3.5   |  2.5         | 19.5    |\n| startup4 |  4.0       |  3.0             |  2.5              |  2.5      |  3.5       |  2.0   |  3.0         | 20.5    |\n| startup5 |  2.5       |  3.5             |  3.5              |  3.0      |  3.5       |  3.0   |  3.0         | 22.0    |\n\n",
            "text/html": [
              "<table class=\"dataframe\">\n",
              "<caption>A matrix: 6 × 8 of type chr</caption>\n",
              "<tbody>\n",
              "\t<tr><th scope=row>X</th><td>Innovation</td><td>Market potential</td><td>Galileo relevance</td><td>Viability</td><td>Feasiblity</td><td>Impact</td><td>Presentation</td><td>TOTAL 1</td></tr>\n",
              "\t<tr><th scope=row>startup1</th><td> 2.0      </td><td> 2.0            </td><td> 2.5             </td><td> 2.0     </td><td> 3.0      </td><td> 2.5  </td><td> 1.5        </td><td>15.5   </td></tr>\n",
              "\t<tr><th scope=row>startup2</th><td> 3.0      </td><td> 2.5            </td><td> 2.5             </td><td> 2.5     </td><td> 3.5      </td><td> 3.5  </td><td> 3.0        </td><td>20.5   </td></tr>\n",
              "\t<tr><th scope=row>startup3</th><td> 2.0      </td><td> 3.0            </td><td> 3.0             </td><td> 2.0     </td><td> 3.5      </td><td> 3.5  </td><td> 2.5        </td><td>19.5   </td></tr>\n",
              "\t<tr><th scope=row>startup4</th><td> 4.0      </td><td> 3.0            </td><td> 2.5             </td><td> 2.5     </td><td> 3.5      </td><td> 2.0  </td><td> 3.0        </td><td>20.5   </td></tr>\n",
              "\t<tr><th scope=row>startup5</th><td> 2.5      </td><td> 3.5            </td><td> 3.5             </td><td> 3.0     </td><td> 3.5      </td><td> 3.0  </td><td> 3.0        </td><td>22.0   </td></tr>\n",
              "</tbody>\n",
              "</table>\n"
            ]
          },
          "metadata": {
            "tags": []
          }
        }
      ]
    },
    {
      "cell_type": "code",
      "metadata": {
        "id": "DE44Nh3MbBFx",
        "colab": {
          "base_uri": "https://localhost:8080/",
          "height": 189
        },
        "outputId": "0d39c86b-0435-48b9-a6ef-00150cba29dc"
      },
      "source": [
        "df2 <- data.frame(data2.t)\r\n",
        "\r\n",
        "head(df2, 3)"
      ],
      "execution_count": 35,
      "outputs": [
        {
          "output_type": "display_data",
          "data": {
            "text/plain": [
              "         X1         X2               X3                X4        X5        \n",
              "X        Innovation Market potential Galileo relevance Viability Feasiblity\n",
              "startup1  2.0        2.0              2.5               2.0       3.0      \n",
              "startup2  3.0        2.5              2.5               2.5       3.5      \n",
              "         X6     X7           X8     \n",
              "X        Impact Presentation TOTAL 1\n",
              "startup1  2.5    1.5         15.5   \n",
              "startup2  3.5    3.0         20.5   "
            ],
            "text/latex": "A data.frame: 3 × 8\n\\begin{tabular}{r|llllllll}\n  & X1 & X2 & X3 & X4 & X5 & X6 & X7 & X8\\\\\n  & <chr> & <chr> & <chr> & <chr> & <chr> & <chr> & <chr> & <chr>\\\\\n\\hline\n\tX & Innovation & Market potential & Galileo relevance & Viability & Feasiblity & Impact & Presentation & TOTAL 1\\\\\n\tstartup1 &  2.0       &  2.0             &  2.5              &  2.0      &  3.0       &  2.5   &  1.5         & 15.5   \\\\\n\tstartup2 &  3.0       &  2.5             &  2.5              &  2.5      &  3.5       &  3.5   &  3.0         & 20.5   \\\\\n\\end{tabular}\n",
            "text/markdown": "\nA data.frame: 3 × 8\n\n| <!--/--> | X1 &lt;chr&gt; | X2 &lt;chr&gt; | X3 &lt;chr&gt; | X4 &lt;chr&gt; | X5 &lt;chr&gt; | X6 &lt;chr&gt; | X7 &lt;chr&gt; | X8 &lt;chr&gt; |\n|---|---|---|---|---|---|---|---|---|\n| X | Innovation | Market potential | Galileo relevance | Viability | Feasiblity | Impact | Presentation | TOTAL 1 |\n| startup1 |  2.0       |  2.0             |  2.5              |  2.0      |  3.0       |  2.5   |  1.5         | 15.5    |\n| startup2 |  3.0       |  2.5             |  2.5              |  2.5      |  3.5       |  3.5   |  3.0         | 20.5    |\n\n",
            "text/html": [
              "<table class=\"dataframe\">\n",
              "<caption>A data.frame: 3 × 8</caption>\n",
              "<thead>\n",
              "\t<tr><th></th><th scope=col>X1</th><th scope=col>X2</th><th scope=col>X3</th><th scope=col>X4</th><th scope=col>X5</th><th scope=col>X6</th><th scope=col>X7</th><th scope=col>X8</th></tr>\n",
              "\t<tr><th></th><th scope=col>&lt;chr&gt;</th><th scope=col>&lt;chr&gt;</th><th scope=col>&lt;chr&gt;</th><th scope=col>&lt;chr&gt;</th><th scope=col>&lt;chr&gt;</th><th scope=col>&lt;chr&gt;</th><th scope=col>&lt;chr&gt;</th><th scope=col>&lt;chr&gt;</th></tr>\n",
              "</thead>\n",
              "<tbody>\n",
              "\t<tr><th scope=row>X</th><td>Innovation</td><td>Market potential</td><td>Galileo relevance</td><td>Viability</td><td>Feasiblity</td><td>Impact</td><td>Presentation</td><td>TOTAL 1</td></tr>\n",
              "\t<tr><th scope=row>startup1</th><td> 2.0      </td><td> 2.0            </td><td> 2.5             </td><td> 2.0     </td><td> 3.0      </td><td> 2.5  </td><td> 1.5        </td><td>15.5   </td></tr>\n",
              "\t<tr><th scope=row>startup2</th><td> 3.0      </td><td> 2.5            </td><td> 2.5             </td><td> 2.5     </td><td> 3.5      </td><td> 3.5  </td><td> 3.0        </td><td>20.5   </td></tr>\n",
              "</tbody>\n",
              "</table>\n"
            ]
          },
          "metadata": {
            "tags": []
          }
        }
      ]
    },
    {
      "cell_type": "code",
      "metadata": {
        "id": "DGxUYbazZUjn",
        "colab": {
          "base_uri": "https://localhost:8080/",
          "height": 104
        },
        "outputId": "ebf09e4b-6e2b-4430-9c1b-702843f97609"
      },
      "source": [
        "colnames(df1); \r\n",
        "\r\n",
        "row.names(df1)"
      ],
      "execution_count": 36,
      "outputs": [
        {
          "output_type": "display_data",
          "data": {
            "text/plain": [
              "[1] \"X1\" \"X2\" \"X3\" \"X4\" \"X5\" \"X6\" \"X7\" \"X8\""
            ],
            "text/latex": "\\begin{enumerate*}\n\\item 'X1'\n\\item 'X2'\n\\item 'X3'\n\\item 'X4'\n\\item 'X5'\n\\item 'X6'\n\\item 'X7'\n\\item 'X8'\n\\end{enumerate*}\n",
            "text/markdown": "1. 'X1'\n2. 'X2'\n3. 'X3'\n4. 'X4'\n5. 'X5'\n6. 'X6'\n7. 'X7'\n8. 'X8'\n\n\n",
            "text/html": [
              "<style>\n",
              ".list-inline {list-style: none; margin:0; padding: 0}\n",
              ".list-inline>li {display: inline-block}\n",
              ".list-inline>li:not(:last-child)::after {content: \"\\00b7\"; padding: 0 .5ex}\n",
              "</style>\n",
              "<ol class=list-inline><li>'X1'</li><li>'X2'</li><li>'X3'</li><li>'X4'</li><li>'X5'</li><li>'X6'</li><li>'X7'</li><li>'X8'</li></ol>\n"
            ]
          },
          "metadata": {
            "tags": []
          }
        },
        {
          "output_type": "display_data",
          "data": {
            "text/plain": [
              " [1] \"X\"         \"startup1\"  \"startup2\"  \"startup3\"  \"startup4\"  \"startup5\" \n",
              " [7] \"startup6\"  \"startup7\"  \"startup8\"  \"startup9\"  \"startup10\" \"startup11\"\n",
              "[13] \"startup12\" \"startup13\" \"startup14\" \"startup15\" \"startup16\" \"startup17\"\n",
              "[19] \"startup18\" \"startup19\" \"startup20\" \"startup21\" \"startup22\" \"startup23\"\n",
              "[25] \"startup24\" \"startup25\" \"startup26\" \"startup27\" \"startup28\" \"startup29\"\n",
              "[31] \"startup30\" \"startup31\" \"startup32\" \"startup33\" \"startup34\" \"startup35\"\n",
              "[37] \"startup36\" \"startup37\" \"startup38\" \"startup39\" \"startup40\" \"startup41\"\n",
              "[43] \"startup42\" \"startup43\" \"startup44\" \"startup45\" \"startup46\" \"startup47\"\n",
              "[49] \"startup48\" \"startup49\" \"startup50\""
            ],
            "text/latex": "\\begin{enumerate*}\n\\item 'X'\n\\item 'startup1'\n\\item 'startup2'\n\\item 'startup3'\n\\item 'startup4'\n\\item 'startup5'\n\\item 'startup6'\n\\item 'startup7'\n\\item 'startup8'\n\\item 'startup9'\n\\item 'startup10'\n\\item 'startup11'\n\\item 'startup12'\n\\item 'startup13'\n\\item 'startup14'\n\\item 'startup15'\n\\item 'startup16'\n\\item 'startup17'\n\\item 'startup18'\n\\item 'startup19'\n\\item 'startup20'\n\\item 'startup21'\n\\item 'startup22'\n\\item 'startup23'\n\\item 'startup24'\n\\item 'startup25'\n\\item 'startup26'\n\\item 'startup27'\n\\item 'startup28'\n\\item 'startup29'\n\\item 'startup30'\n\\item 'startup31'\n\\item 'startup32'\n\\item 'startup33'\n\\item 'startup34'\n\\item 'startup35'\n\\item 'startup36'\n\\item 'startup37'\n\\item 'startup38'\n\\item 'startup39'\n\\item 'startup40'\n\\item 'startup41'\n\\item 'startup42'\n\\item 'startup43'\n\\item 'startup44'\n\\item 'startup45'\n\\item 'startup46'\n\\item 'startup47'\n\\item 'startup48'\n\\item 'startup49'\n\\item 'startup50'\n\\end{enumerate*}\n",
            "text/markdown": "1. 'X'\n2. 'startup1'\n3. 'startup2'\n4. 'startup3'\n5. 'startup4'\n6. 'startup5'\n7. 'startup6'\n8. 'startup7'\n9. 'startup8'\n10. 'startup9'\n11. 'startup10'\n12. 'startup11'\n13. 'startup12'\n14. 'startup13'\n15. 'startup14'\n16. 'startup15'\n17. 'startup16'\n18. 'startup17'\n19. 'startup18'\n20. 'startup19'\n21. 'startup20'\n22. 'startup21'\n23. 'startup22'\n24. 'startup23'\n25. 'startup24'\n26. 'startup25'\n27. 'startup26'\n28. 'startup27'\n29. 'startup28'\n30. 'startup29'\n31. 'startup30'\n32. 'startup31'\n33. 'startup32'\n34. 'startup33'\n35. 'startup34'\n36. 'startup35'\n37. 'startup36'\n38. 'startup37'\n39. 'startup38'\n40. 'startup39'\n41. 'startup40'\n42. 'startup41'\n43. 'startup42'\n44. 'startup43'\n45. 'startup44'\n46. 'startup45'\n47. 'startup46'\n48. 'startup47'\n49. 'startup48'\n50. 'startup49'\n51. 'startup50'\n\n\n",
            "text/html": [
              "<style>\n",
              ".list-inline {list-style: none; margin:0; padding: 0}\n",
              ".list-inline>li {display: inline-block}\n",
              ".list-inline>li:not(:last-child)::after {content: \"\\00b7\"; padding: 0 .5ex}\n",
              "</style>\n",
              "<ol class=list-inline><li>'X'</li><li>'startup1'</li><li>'startup2'</li><li>'startup3'</li><li>'startup4'</li><li>'startup5'</li><li>'startup6'</li><li>'startup7'</li><li>'startup8'</li><li>'startup9'</li><li>'startup10'</li><li>'startup11'</li><li>'startup12'</li><li>'startup13'</li><li>'startup14'</li><li>'startup15'</li><li>'startup16'</li><li>'startup17'</li><li>'startup18'</li><li>'startup19'</li><li>'startup20'</li><li>'startup21'</li><li>'startup22'</li><li>'startup23'</li><li>'startup24'</li><li>'startup25'</li><li>'startup26'</li><li>'startup27'</li><li>'startup28'</li><li>'startup29'</li><li>'startup30'</li><li>'startup31'</li><li>'startup32'</li><li>'startup33'</li><li>'startup34'</li><li>'startup35'</li><li>'startup36'</li><li>'startup37'</li><li>'startup38'</li><li>'startup39'</li><li>'startup40'</li><li>'startup41'</li><li>'startup42'</li><li>'startup43'</li><li>'startup44'</li><li>'startup45'</li><li>'startup46'</li><li>'startup47'</li><li>'startup48'</li><li>'startup49'</li><li>'startup50'</li></ol>\n"
            ]
          },
          "metadata": {
            "tags": []
          }
        }
      ]
    },
    {
      "cell_type": "code",
      "metadata": {
        "id": "wlcr2nqyaQhD",
        "colab": {
          "base_uri": "https://localhost:8080/",
          "height": 189
        },
        "outputId": "9956dd33-9a53-4986-fbc0-a69cc5bf80c0"
      },
      "source": [
        "colnames(df1) <- c( \"Innovation\" , \"Market potential\" , \"Galileo relevance\", \"Viability\",\t\"Feasiblity\",\t\"Impact\",\t\"Presentation\",\t\"TOTAL1\" )\r\n",
        "\r\n",
        "tail(df1, 3)"
      ],
      "execution_count": 37,
      "outputs": [
        {
          "output_type": "display_data",
          "data": {
            "text/plain": [
              "          Innovation Market potential Galileo relevance Viability Feasiblity\n",
              "startup48  3.5        2.0              2.0               2.0       2.5      \n",
              "startup49  3.0        3.0              3.5               2.5       3.5      \n",
              "startup50  2.0        2.0              2.5               2.0       2.0      \n",
              "          Impact Presentation TOTAL1\n",
              "startup48  3.5    3.0         18.5  \n",
              "startup49  3.5    3.5         22.5  \n",
              "startup50  2.5    2.5         15.5  "
            ],
            "text/latex": "A data.frame: 3 × 8\n\\begin{tabular}{r|llllllll}\n  & Innovation & Market potential & Galileo relevance & Viability & Feasiblity & Impact & Presentation & TOTAL1\\\\\n  & <chr> & <chr> & <chr> & <chr> & <chr> & <chr> & <chr> & <chr>\\\\\n\\hline\n\tstartup48 &  3.5 &  2.0 &  2.0 &  2.0 &  2.5 &  3.5 &  3.0 & 18.5\\\\\n\tstartup49 &  3.0 &  3.0 &  3.5 &  2.5 &  3.5 &  3.5 &  3.5 & 22.5\\\\\n\tstartup50 &  2.0 &  2.0 &  2.5 &  2.0 &  2.0 &  2.5 &  2.5 & 15.5\\\\\n\\end{tabular}\n",
            "text/markdown": "\nA data.frame: 3 × 8\n\n| <!--/--> | Innovation &lt;chr&gt; | Market potential &lt;chr&gt; | Galileo relevance &lt;chr&gt; | Viability &lt;chr&gt; | Feasiblity &lt;chr&gt; | Impact &lt;chr&gt; | Presentation &lt;chr&gt; | TOTAL1 &lt;chr&gt; |\n|---|---|---|---|---|---|---|---|---|\n| startup48 |  3.5 |  2.0 |  2.0 |  2.0 |  2.5 |  3.5 |  3.0 | 18.5 |\n| startup49 |  3.0 |  3.0 |  3.5 |  2.5 |  3.5 |  3.5 |  3.5 | 22.5 |\n| startup50 |  2.0 |  2.0 |  2.5 |  2.0 |  2.0 |  2.5 |  2.5 | 15.5 |\n\n",
            "text/html": [
              "<table class=\"dataframe\">\n",
              "<caption>A data.frame: 3 × 8</caption>\n",
              "<thead>\n",
              "\t<tr><th></th><th scope=col>Innovation</th><th scope=col>Market potential</th><th scope=col>Galileo relevance</th><th scope=col>Viability</th><th scope=col>Feasiblity</th><th scope=col>Impact</th><th scope=col>Presentation</th><th scope=col>TOTAL1</th></tr>\n",
              "\t<tr><th></th><th scope=col>&lt;chr&gt;</th><th scope=col>&lt;chr&gt;</th><th scope=col>&lt;chr&gt;</th><th scope=col>&lt;chr&gt;</th><th scope=col>&lt;chr&gt;</th><th scope=col>&lt;chr&gt;</th><th scope=col>&lt;chr&gt;</th><th scope=col>&lt;chr&gt;</th></tr>\n",
              "</thead>\n",
              "<tbody>\n",
              "\t<tr><th scope=row>startup48</th><td> 3.5</td><td> 2.0</td><td> 2.0</td><td> 2.0</td><td> 2.5</td><td> 3.5</td><td> 3.0</td><td>18.5</td></tr>\n",
              "\t<tr><th scope=row>startup49</th><td> 3.0</td><td> 3.0</td><td> 3.5</td><td> 2.5</td><td> 3.5</td><td> 3.5</td><td> 3.5</td><td>22.5</td></tr>\n",
              "\t<tr><th scope=row>startup50</th><td> 2.0</td><td> 2.0</td><td> 2.5</td><td> 2.0</td><td> 2.0</td><td> 2.5</td><td> 2.5</td><td>15.5</td></tr>\n",
              "</tbody>\n",
              "</table>\n"
            ]
          },
          "metadata": {
            "tags": []
          }
        }
      ]
    },
    {
      "cell_type": "code",
      "metadata": {
        "id": "0ULTHJjobpIZ",
        "colab": {
          "base_uri": "https://localhost:8080/",
          "height": 189
        },
        "outputId": "4e10b495-6a70-47fb-d99f-c79807041f55"
      },
      "source": [
        "colnames(df2) <- c( \"Innovation\" , \"Market potential\" , \"Galileo relevance\", \"Viability\",\t\"Feasiblity\",\t\"Impact\",\t\"Presentation\",\t\"TOTAL1\" )\r\n",
        "\r\n",
        "tail(df2, 3)"
      ],
      "execution_count": 38,
      "outputs": [
        {
          "output_type": "display_data",
          "data": {
            "text/plain": [
              "          Innovation Market potential Galileo relevance Viability Feasiblity\n",
              "startup48  3.5        2.0              2.0               2.0       2.5      \n",
              "startup49  3.0        3.0              3.5               2.5       3.5      \n",
              "startup50  2.0        2.0              2.5               2.0       2.0      \n",
              "          Impact Presentation TOTAL1\n",
              "startup48  3.5    3.0         18.5  \n",
              "startup49  3.5    3.5         22.5  \n",
              "startup50  2.5    2.5         15.5  "
            ],
            "text/latex": "A data.frame: 3 × 8\n\\begin{tabular}{r|llllllll}\n  & Innovation & Market potential & Galileo relevance & Viability & Feasiblity & Impact & Presentation & TOTAL1\\\\\n  & <chr> & <chr> & <chr> & <chr> & <chr> & <chr> & <chr> & <chr>\\\\\n\\hline\n\tstartup48 &  3.5 &  2.0 &  2.0 &  2.0 &  2.5 &  3.5 &  3.0 & 18.5\\\\\n\tstartup49 &  3.0 &  3.0 &  3.5 &  2.5 &  3.5 &  3.5 &  3.5 & 22.5\\\\\n\tstartup50 &  2.0 &  2.0 &  2.5 &  2.0 &  2.0 &  2.5 &  2.5 & 15.5\\\\\n\\end{tabular}\n",
            "text/markdown": "\nA data.frame: 3 × 8\n\n| <!--/--> | Innovation &lt;chr&gt; | Market potential &lt;chr&gt; | Galileo relevance &lt;chr&gt; | Viability &lt;chr&gt; | Feasiblity &lt;chr&gt; | Impact &lt;chr&gt; | Presentation &lt;chr&gt; | TOTAL1 &lt;chr&gt; |\n|---|---|---|---|---|---|---|---|---|\n| startup48 |  3.5 |  2.0 |  2.0 |  2.0 |  2.5 |  3.5 |  3.0 | 18.5 |\n| startup49 |  3.0 |  3.0 |  3.5 |  2.5 |  3.5 |  3.5 |  3.5 | 22.5 |\n| startup50 |  2.0 |  2.0 |  2.5 |  2.0 |  2.0 |  2.5 |  2.5 | 15.5 |\n\n",
            "text/html": [
              "<table class=\"dataframe\">\n",
              "<caption>A data.frame: 3 × 8</caption>\n",
              "<thead>\n",
              "\t<tr><th></th><th scope=col>Innovation</th><th scope=col>Market potential</th><th scope=col>Galileo relevance</th><th scope=col>Viability</th><th scope=col>Feasiblity</th><th scope=col>Impact</th><th scope=col>Presentation</th><th scope=col>TOTAL1</th></tr>\n",
              "\t<tr><th></th><th scope=col>&lt;chr&gt;</th><th scope=col>&lt;chr&gt;</th><th scope=col>&lt;chr&gt;</th><th scope=col>&lt;chr&gt;</th><th scope=col>&lt;chr&gt;</th><th scope=col>&lt;chr&gt;</th><th scope=col>&lt;chr&gt;</th><th scope=col>&lt;chr&gt;</th></tr>\n",
              "</thead>\n",
              "<tbody>\n",
              "\t<tr><th scope=row>startup48</th><td> 3.5</td><td> 2.0</td><td> 2.0</td><td> 2.0</td><td> 2.5</td><td> 3.5</td><td> 3.0</td><td>18.5</td></tr>\n",
              "\t<tr><th scope=row>startup49</th><td> 3.0</td><td> 3.0</td><td> 3.5</td><td> 2.5</td><td> 3.5</td><td> 3.5</td><td> 3.5</td><td>22.5</td></tr>\n",
              "\t<tr><th scope=row>startup50</th><td> 2.0</td><td> 2.0</td><td> 2.5</td><td> 2.0</td><td> 2.0</td><td> 2.5</td><td> 2.5</td><td>15.5</td></tr>\n",
              "</tbody>\n",
              "</table>\n"
            ]
          },
          "metadata": {
            "tags": []
          }
        }
      ]
    },
    {
      "cell_type": "code",
      "metadata": {
        "id": "FsiAPy9ecO_h",
        "colab": {
          "base_uri": "https://localhost:8080/",
          "height": 342
        },
        "outputId": "ac3c96ef-45f9-425c-eadf-3d86b6d05ab9"
      },
      "source": [
        "describe(df1)"
      ],
      "execution_count": 39,
      "outputs": [
        {
          "output_type": "display_data",
          "data": {
            "text/plain": [
              "                   vars n  mean     sd       median trimmed  mad    min max\n",
              "Innovation*        1    51 3.215686 1.540308  3     3.146341 1.4826 1    7 \n",
              "Market potential*  2    51 3.333333 1.227464  3     3.243902 1.4826 1    7 \n",
              "Galileo relevance* 3    51 3.960784 1.341056  4     3.951220 1.4826 1    7 \n",
              "Viability*         4    51 3.607843 1.484297  3     3.536585 1.4826 1    8 \n",
              "Feasiblity*        5    51 3.156863 1.347183  3     3.170732 1.4826 1    6 \n",
              "Impact*            6    51 4.509804 1.461130  4     4.439024 1.4826 1    9 \n",
              "Presentation*      7    51 4.039216 1.469160  4     4.000000 1.4826 1    8 \n",
              "TOTAL1*            8    51 9.784314 4.953034 10     9.707317 5.9304 1   20 \n",
              "                   range skew        kurtosis    se       \n",
              "Innovation*         6     0.25608988 -0.62225370 0.2156863\n",
              "Market potential*   6     0.57017334  0.06156608 0.1718793\n",
              "Galileo relevance*  6     0.11855192 -0.77233826 0.1877854\n",
              "Viability*          7     0.60363776  0.51074896 0.2078431\n",
              "Feasiblity*         5    -0.03929919 -1.01385791 0.1886433\n",
              "Impact*             8     0.52791824  0.79797597 0.2045992\n",
              "Presentation*       7     0.26773987  0.09853315 0.2057236\n",
              "TOTAL1*            19     0.07507003 -0.96378526 0.6935635"
            ],
            "text/latex": "A psych: 8 × 13\n\\begin{tabular}{r|lllllllllllll}\n  & vars & n & mean & sd & median & trimmed & mad & min & max & range & skew & kurtosis & se\\\\\n  & <int> & <dbl> & <dbl> & <dbl> & <dbl> & <dbl> & <dbl> & <dbl> & <dbl> & <dbl> & <dbl> & <dbl> & <dbl>\\\\\n\\hline\n\tInnovation* & 1 & 51 & 3.215686 & 1.540308 &  3 & 3.146341 & 1.4826 & 1 &  7 &  6 &  0.25608988 & -0.62225370 & 0.2156863\\\\\n\tMarket potential* & 2 & 51 & 3.333333 & 1.227464 &  3 & 3.243902 & 1.4826 & 1 &  7 &  6 &  0.57017334 &  0.06156608 & 0.1718793\\\\\n\tGalileo relevance* & 3 & 51 & 3.960784 & 1.341056 &  4 & 3.951220 & 1.4826 & 1 &  7 &  6 &  0.11855192 & -0.77233826 & 0.1877854\\\\\n\tViability* & 4 & 51 & 3.607843 & 1.484297 &  3 & 3.536585 & 1.4826 & 1 &  8 &  7 &  0.60363776 &  0.51074896 & 0.2078431\\\\\n\tFeasiblity* & 5 & 51 & 3.156863 & 1.347183 &  3 & 3.170732 & 1.4826 & 1 &  6 &  5 & -0.03929919 & -1.01385791 & 0.1886433\\\\\n\tImpact* & 6 & 51 & 4.509804 & 1.461130 &  4 & 4.439024 & 1.4826 & 1 &  9 &  8 &  0.52791824 &  0.79797597 & 0.2045992\\\\\n\tPresentation* & 7 & 51 & 4.039216 & 1.469160 &  4 & 4.000000 & 1.4826 & 1 &  8 &  7 &  0.26773987 &  0.09853315 & 0.2057236\\\\\n\tTOTAL1* & 8 & 51 & 9.784314 & 4.953034 & 10 & 9.707317 & 5.9304 & 1 & 20 & 19 &  0.07507003 & -0.96378526 & 0.6935635\\\\\n\\end{tabular}\n",
            "text/markdown": "\nA psych: 8 × 13\n\n| <!--/--> | vars &lt;int&gt; | n &lt;dbl&gt; | mean &lt;dbl&gt; | sd &lt;dbl&gt; | median &lt;dbl&gt; | trimmed &lt;dbl&gt; | mad &lt;dbl&gt; | min &lt;dbl&gt; | max &lt;dbl&gt; | range &lt;dbl&gt; | skew &lt;dbl&gt; | kurtosis &lt;dbl&gt; | se &lt;dbl&gt; |\n|---|---|---|---|---|---|---|---|---|---|---|---|---|---|\n| Innovation* | 1 | 51 | 3.215686 | 1.540308 |  3 | 3.146341 | 1.4826 | 1 |  7 |  6 |  0.25608988 | -0.62225370 | 0.2156863 |\n| Market potential* | 2 | 51 | 3.333333 | 1.227464 |  3 | 3.243902 | 1.4826 | 1 |  7 |  6 |  0.57017334 |  0.06156608 | 0.1718793 |\n| Galileo relevance* | 3 | 51 | 3.960784 | 1.341056 |  4 | 3.951220 | 1.4826 | 1 |  7 |  6 |  0.11855192 | -0.77233826 | 0.1877854 |\n| Viability* | 4 | 51 | 3.607843 | 1.484297 |  3 | 3.536585 | 1.4826 | 1 |  8 |  7 |  0.60363776 |  0.51074896 | 0.2078431 |\n| Feasiblity* | 5 | 51 | 3.156863 | 1.347183 |  3 | 3.170732 | 1.4826 | 1 |  6 |  5 | -0.03929919 | -1.01385791 | 0.1886433 |\n| Impact* | 6 | 51 | 4.509804 | 1.461130 |  4 | 4.439024 | 1.4826 | 1 |  9 |  8 |  0.52791824 |  0.79797597 | 0.2045992 |\n| Presentation* | 7 | 51 | 4.039216 | 1.469160 |  4 | 4.000000 | 1.4826 | 1 |  8 |  7 |  0.26773987 |  0.09853315 | 0.2057236 |\n| TOTAL1* | 8 | 51 | 9.784314 | 4.953034 | 10 | 9.707317 | 5.9304 | 1 | 20 | 19 |  0.07507003 | -0.96378526 | 0.6935635 |\n\n",
            "text/html": [
              "<table class=\"dataframe\">\n",
              "<caption>A psych: 8 × 13</caption>\n",
              "<thead>\n",
              "\t<tr><th></th><th scope=col>vars</th><th scope=col>n</th><th scope=col>mean</th><th scope=col>sd</th><th scope=col>median</th><th scope=col>trimmed</th><th scope=col>mad</th><th scope=col>min</th><th scope=col>max</th><th scope=col>range</th><th scope=col>skew</th><th scope=col>kurtosis</th><th scope=col>se</th></tr>\n",
              "\t<tr><th></th><th scope=col>&lt;int&gt;</th><th scope=col>&lt;dbl&gt;</th><th scope=col>&lt;dbl&gt;</th><th scope=col>&lt;dbl&gt;</th><th scope=col>&lt;dbl&gt;</th><th scope=col>&lt;dbl&gt;</th><th scope=col>&lt;dbl&gt;</th><th scope=col>&lt;dbl&gt;</th><th scope=col>&lt;dbl&gt;</th><th scope=col>&lt;dbl&gt;</th><th scope=col>&lt;dbl&gt;</th><th scope=col>&lt;dbl&gt;</th><th scope=col>&lt;dbl&gt;</th></tr>\n",
              "</thead>\n",
              "<tbody>\n",
              "\t<tr><th scope=row>Innovation*</th><td>1</td><td>51</td><td>3.215686</td><td>1.540308</td><td> 3</td><td>3.146341</td><td>1.4826</td><td>1</td><td> 7</td><td> 6</td><td> 0.25608988</td><td>-0.62225370</td><td>0.2156863</td></tr>\n",
              "\t<tr><th scope=row>Market potential*</th><td>2</td><td>51</td><td>3.333333</td><td>1.227464</td><td> 3</td><td>3.243902</td><td>1.4826</td><td>1</td><td> 7</td><td> 6</td><td> 0.57017334</td><td> 0.06156608</td><td>0.1718793</td></tr>\n",
              "\t<tr><th scope=row>Galileo relevance*</th><td>3</td><td>51</td><td>3.960784</td><td>1.341056</td><td> 4</td><td>3.951220</td><td>1.4826</td><td>1</td><td> 7</td><td> 6</td><td> 0.11855192</td><td>-0.77233826</td><td>0.1877854</td></tr>\n",
              "\t<tr><th scope=row>Viability*</th><td>4</td><td>51</td><td>3.607843</td><td>1.484297</td><td> 3</td><td>3.536585</td><td>1.4826</td><td>1</td><td> 8</td><td> 7</td><td> 0.60363776</td><td> 0.51074896</td><td>0.2078431</td></tr>\n",
              "\t<tr><th scope=row>Feasiblity*</th><td>5</td><td>51</td><td>3.156863</td><td>1.347183</td><td> 3</td><td>3.170732</td><td>1.4826</td><td>1</td><td> 6</td><td> 5</td><td>-0.03929919</td><td>-1.01385791</td><td>0.1886433</td></tr>\n",
              "\t<tr><th scope=row>Impact*</th><td>6</td><td>51</td><td>4.509804</td><td>1.461130</td><td> 4</td><td>4.439024</td><td>1.4826</td><td>1</td><td> 9</td><td> 8</td><td> 0.52791824</td><td> 0.79797597</td><td>0.2045992</td></tr>\n",
              "\t<tr><th scope=row>Presentation*</th><td>7</td><td>51</td><td>4.039216</td><td>1.469160</td><td> 4</td><td>4.000000</td><td>1.4826</td><td>1</td><td> 8</td><td> 7</td><td> 0.26773987</td><td> 0.09853315</td><td>0.2057236</td></tr>\n",
              "\t<tr><th scope=row>TOTAL1*</th><td>8</td><td>51</td><td>9.784314</td><td>4.953034</td><td>10</td><td>9.707317</td><td>5.9304</td><td>1</td><td>20</td><td>19</td><td> 0.07507003</td><td>-0.96378526</td><td>0.6935635</td></tr>\n",
              "</tbody>\n",
              "</table>\n"
            ]
          },
          "metadata": {
            "tags": []
          }
        }
      ]
    },
    {
      "cell_type": "code",
      "metadata": {
        "colab": {
          "base_uri": "https://localhost:8080/",
          "height": 342
        },
        "id": "YwPrleUkNiG_",
        "outputId": "8e40a6cf-797f-43f8-b9a8-2fce57a44fcc"
      },
      "source": [
        "describe(df2)"
      ],
      "execution_count": 40,
      "outputs": [
        {
          "output_type": "display_data",
          "data": {
            "text/plain": [
              "                   vars n  mean     sd       median trimmed  mad    min max\n",
              "Innovation*        1    51 3.215686 1.540308  3     3.146341 1.4826 1    7 \n",
              "Market potential*  2    51 3.333333 1.227464  3     3.243902 1.4826 1    7 \n",
              "Galileo relevance* 3    51 3.960784 1.341056  4     3.951220 1.4826 1    7 \n",
              "Viability*         4    51 3.607843 1.484297  3     3.536585 1.4826 1    8 \n",
              "Feasiblity*        5    51 3.156863 1.347183  3     3.170732 1.4826 1    6 \n",
              "Impact*            6    51 4.509804 1.461130  4     4.439024 1.4826 1    9 \n",
              "Presentation*      7    51 4.039216 1.469160  4     4.000000 1.4826 1    8 \n",
              "TOTAL1*            8    51 9.784314 4.953034 10     9.707317 5.9304 1   20 \n",
              "                   range skew        kurtosis    se       \n",
              "Innovation*         6     0.25608988 -0.62225370 0.2156863\n",
              "Market potential*   6     0.57017334  0.06156608 0.1718793\n",
              "Galileo relevance*  6     0.11855192 -0.77233826 0.1877854\n",
              "Viability*          7     0.60363776  0.51074896 0.2078431\n",
              "Feasiblity*         5    -0.03929919 -1.01385791 0.1886433\n",
              "Impact*             8     0.52791824  0.79797597 0.2045992\n",
              "Presentation*       7     0.26773987  0.09853315 0.2057236\n",
              "TOTAL1*            19     0.07507003 -0.96378526 0.6935635"
            ],
            "text/latex": "A psych: 8 × 13\n\\begin{tabular}{r|lllllllllllll}\n  & vars & n & mean & sd & median & trimmed & mad & min & max & range & skew & kurtosis & se\\\\\n  & <int> & <dbl> & <dbl> & <dbl> & <dbl> & <dbl> & <dbl> & <dbl> & <dbl> & <dbl> & <dbl> & <dbl> & <dbl>\\\\\n\\hline\n\tInnovation* & 1 & 51 & 3.215686 & 1.540308 &  3 & 3.146341 & 1.4826 & 1 &  7 &  6 &  0.25608988 & -0.62225370 & 0.2156863\\\\\n\tMarket potential* & 2 & 51 & 3.333333 & 1.227464 &  3 & 3.243902 & 1.4826 & 1 &  7 &  6 &  0.57017334 &  0.06156608 & 0.1718793\\\\\n\tGalileo relevance* & 3 & 51 & 3.960784 & 1.341056 &  4 & 3.951220 & 1.4826 & 1 &  7 &  6 &  0.11855192 & -0.77233826 & 0.1877854\\\\\n\tViability* & 4 & 51 & 3.607843 & 1.484297 &  3 & 3.536585 & 1.4826 & 1 &  8 &  7 &  0.60363776 &  0.51074896 & 0.2078431\\\\\n\tFeasiblity* & 5 & 51 & 3.156863 & 1.347183 &  3 & 3.170732 & 1.4826 & 1 &  6 &  5 & -0.03929919 & -1.01385791 & 0.1886433\\\\\n\tImpact* & 6 & 51 & 4.509804 & 1.461130 &  4 & 4.439024 & 1.4826 & 1 &  9 &  8 &  0.52791824 &  0.79797597 & 0.2045992\\\\\n\tPresentation* & 7 & 51 & 4.039216 & 1.469160 &  4 & 4.000000 & 1.4826 & 1 &  8 &  7 &  0.26773987 &  0.09853315 & 0.2057236\\\\\n\tTOTAL1* & 8 & 51 & 9.784314 & 4.953034 & 10 & 9.707317 & 5.9304 & 1 & 20 & 19 &  0.07507003 & -0.96378526 & 0.6935635\\\\\n\\end{tabular}\n",
            "text/markdown": "\nA psych: 8 × 13\n\n| <!--/--> | vars &lt;int&gt; | n &lt;dbl&gt; | mean &lt;dbl&gt; | sd &lt;dbl&gt; | median &lt;dbl&gt; | trimmed &lt;dbl&gt; | mad &lt;dbl&gt; | min &lt;dbl&gt; | max &lt;dbl&gt; | range &lt;dbl&gt; | skew &lt;dbl&gt; | kurtosis &lt;dbl&gt; | se &lt;dbl&gt; |\n|---|---|---|---|---|---|---|---|---|---|---|---|---|---|\n| Innovation* | 1 | 51 | 3.215686 | 1.540308 |  3 | 3.146341 | 1.4826 | 1 |  7 |  6 |  0.25608988 | -0.62225370 | 0.2156863 |\n| Market potential* | 2 | 51 | 3.333333 | 1.227464 |  3 | 3.243902 | 1.4826 | 1 |  7 |  6 |  0.57017334 |  0.06156608 | 0.1718793 |\n| Galileo relevance* | 3 | 51 | 3.960784 | 1.341056 |  4 | 3.951220 | 1.4826 | 1 |  7 |  6 |  0.11855192 | -0.77233826 | 0.1877854 |\n| Viability* | 4 | 51 | 3.607843 | 1.484297 |  3 | 3.536585 | 1.4826 | 1 |  8 |  7 |  0.60363776 |  0.51074896 | 0.2078431 |\n| Feasiblity* | 5 | 51 | 3.156863 | 1.347183 |  3 | 3.170732 | 1.4826 | 1 |  6 |  5 | -0.03929919 | -1.01385791 | 0.1886433 |\n| Impact* | 6 | 51 | 4.509804 | 1.461130 |  4 | 4.439024 | 1.4826 | 1 |  9 |  8 |  0.52791824 |  0.79797597 | 0.2045992 |\n| Presentation* | 7 | 51 | 4.039216 | 1.469160 |  4 | 4.000000 | 1.4826 | 1 |  8 |  7 |  0.26773987 |  0.09853315 | 0.2057236 |\n| TOTAL1* | 8 | 51 | 9.784314 | 4.953034 | 10 | 9.707317 | 5.9304 | 1 | 20 | 19 |  0.07507003 | -0.96378526 | 0.6935635 |\n\n",
            "text/html": [
              "<table class=\"dataframe\">\n",
              "<caption>A psych: 8 × 13</caption>\n",
              "<thead>\n",
              "\t<tr><th></th><th scope=col>vars</th><th scope=col>n</th><th scope=col>mean</th><th scope=col>sd</th><th scope=col>median</th><th scope=col>trimmed</th><th scope=col>mad</th><th scope=col>min</th><th scope=col>max</th><th scope=col>range</th><th scope=col>skew</th><th scope=col>kurtosis</th><th scope=col>se</th></tr>\n",
              "\t<tr><th></th><th scope=col>&lt;int&gt;</th><th scope=col>&lt;dbl&gt;</th><th scope=col>&lt;dbl&gt;</th><th scope=col>&lt;dbl&gt;</th><th scope=col>&lt;dbl&gt;</th><th scope=col>&lt;dbl&gt;</th><th scope=col>&lt;dbl&gt;</th><th scope=col>&lt;dbl&gt;</th><th scope=col>&lt;dbl&gt;</th><th scope=col>&lt;dbl&gt;</th><th scope=col>&lt;dbl&gt;</th><th scope=col>&lt;dbl&gt;</th><th scope=col>&lt;dbl&gt;</th></tr>\n",
              "</thead>\n",
              "<tbody>\n",
              "\t<tr><th scope=row>Innovation*</th><td>1</td><td>51</td><td>3.215686</td><td>1.540308</td><td> 3</td><td>3.146341</td><td>1.4826</td><td>1</td><td> 7</td><td> 6</td><td> 0.25608988</td><td>-0.62225370</td><td>0.2156863</td></tr>\n",
              "\t<tr><th scope=row>Market potential*</th><td>2</td><td>51</td><td>3.333333</td><td>1.227464</td><td> 3</td><td>3.243902</td><td>1.4826</td><td>1</td><td> 7</td><td> 6</td><td> 0.57017334</td><td> 0.06156608</td><td>0.1718793</td></tr>\n",
              "\t<tr><th scope=row>Galileo relevance*</th><td>3</td><td>51</td><td>3.960784</td><td>1.341056</td><td> 4</td><td>3.951220</td><td>1.4826</td><td>1</td><td> 7</td><td> 6</td><td> 0.11855192</td><td>-0.77233826</td><td>0.1877854</td></tr>\n",
              "\t<tr><th scope=row>Viability*</th><td>4</td><td>51</td><td>3.607843</td><td>1.484297</td><td> 3</td><td>3.536585</td><td>1.4826</td><td>1</td><td> 8</td><td> 7</td><td> 0.60363776</td><td> 0.51074896</td><td>0.2078431</td></tr>\n",
              "\t<tr><th scope=row>Feasiblity*</th><td>5</td><td>51</td><td>3.156863</td><td>1.347183</td><td> 3</td><td>3.170732</td><td>1.4826</td><td>1</td><td> 6</td><td> 5</td><td>-0.03929919</td><td>-1.01385791</td><td>0.1886433</td></tr>\n",
              "\t<tr><th scope=row>Impact*</th><td>6</td><td>51</td><td>4.509804</td><td>1.461130</td><td> 4</td><td>4.439024</td><td>1.4826</td><td>1</td><td> 9</td><td> 8</td><td> 0.52791824</td><td> 0.79797597</td><td>0.2045992</td></tr>\n",
              "\t<tr><th scope=row>Presentation*</th><td>7</td><td>51</td><td>4.039216</td><td>1.469160</td><td> 4</td><td>4.000000</td><td>1.4826</td><td>1</td><td> 8</td><td> 7</td><td> 0.26773987</td><td> 0.09853315</td><td>0.2057236</td></tr>\n",
              "\t<tr><th scope=row>TOTAL1*</th><td>8</td><td>51</td><td>9.784314</td><td>4.953034</td><td>10</td><td>9.707317</td><td>5.9304</td><td>1</td><td>20</td><td>19</td><td> 0.07507003</td><td>-0.96378526</td><td>0.6935635</td></tr>\n",
              "</tbody>\n",
              "</table>\n"
            ]
          },
          "metadata": {
            "tags": []
          }
        }
      ]
    },
    {
      "cell_type": "code",
      "metadata": {
        "colab": {
          "base_uri": "https://localhost:8080/",
          "height": 156
        },
        "id": "gEoSMx8lOD2W",
        "outputId": "8926081b-f8fb-4d5b-8a5a-e2e4e3d15283"
      },
      "source": [
        "summary(df2)"
      ],
      "execution_count": 41,
      "outputs": [
        {
          "output_type": "display_data",
          "data": {
            "text/plain": [
              "  Innovation        Market potential   Galileo relevance   Viability        \n",
              " Length:51          Length:51          Length:51          Length:51         \n",
              " Class :character   Class :character   Class :character   Class :character  \n",
              " Mode  :character   Mode  :character   Mode  :character   Mode  :character  \n",
              "  Feasiblity           Impact          Presentation          TOTAL1         \n",
              " Length:51          Length:51          Length:51          Length:51         \n",
              " Class :character   Class :character   Class :character   Class :character  \n",
              " Mode  :character   Mode  :character   Mode  :character   Mode  :character  "
            ]
          },
          "metadata": {
            "tags": []
          }
        }
      ]
    },
    {
      "cell_type": "code",
      "metadata": {
        "colab": {
          "base_uri": "https://localhost:8080/",
          "height": 342
        },
        "id": "K_e3wB4POCI_",
        "outputId": "577f2aa1-92be-4ab7-d3d7-1c982244f4b5"
      },
      "source": [
        "describe(df1)"
      ],
      "execution_count": 42,
      "outputs": [
        {
          "output_type": "display_data",
          "data": {
            "text/plain": [
              "                   vars n  mean     sd       median trimmed  mad    min max\n",
              "Innovation*        1    51 3.215686 1.540308  3     3.146341 1.4826 1    7 \n",
              "Market potential*  2    51 3.333333 1.227464  3     3.243902 1.4826 1    7 \n",
              "Galileo relevance* 3    51 3.960784 1.341056  4     3.951220 1.4826 1    7 \n",
              "Viability*         4    51 3.607843 1.484297  3     3.536585 1.4826 1    8 \n",
              "Feasiblity*        5    51 3.156863 1.347183  3     3.170732 1.4826 1    6 \n",
              "Impact*            6    51 4.509804 1.461130  4     4.439024 1.4826 1    9 \n",
              "Presentation*      7    51 4.039216 1.469160  4     4.000000 1.4826 1    8 \n",
              "TOTAL1*            8    51 9.784314 4.953034 10     9.707317 5.9304 1   20 \n",
              "                   range skew        kurtosis    se       \n",
              "Innovation*         6     0.25608988 -0.62225370 0.2156863\n",
              "Market potential*   6     0.57017334  0.06156608 0.1718793\n",
              "Galileo relevance*  6     0.11855192 -0.77233826 0.1877854\n",
              "Viability*          7     0.60363776  0.51074896 0.2078431\n",
              "Feasiblity*         5    -0.03929919 -1.01385791 0.1886433\n",
              "Impact*             8     0.52791824  0.79797597 0.2045992\n",
              "Presentation*       7     0.26773987  0.09853315 0.2057236\n",
              "TOTAL1*            19     0.07507003 -0.96378526 0.6935635"
            ],
            "text/latex": "A psych: 8 × 13\n\\begin{tabular}{r|lllllllllllll}\n  & vars & n & mean & sd & median & trimmed & mad & min & max & range & skew & kurtosis & se\\\\\n  & <int> & <dbl> & <dbl> & <dbl> & <dbl> & <dbl> & <dbl> & <dbl> & <dbl> & <dbl> & <dbl> & <dbl> & <dbl>\\\\\n\\hline\n\tInnovation* & 1 & 51 & 3.215686 & 1.540308 &  3 & 3.146341 & 1.4826 & 1 &  7 &  6 &  0.25608988 & -0.62225370 & 0.2156863\\\\\n\tMarket potential* & 2 & 51 & 3.333333 & 1.227464 &  3 & 3.243902 & 1.4826 & 1 &  7 &  6 &  0.57017334 &  0.06156608 & 0.1718793\\\\\n\tGalileo relevance* & 3 & 51 & 3.960784 & 1.341056 &  4 & 3.951220 & 1.4826 & 1 &  7 &  6 &  0.11855192 & -0.77233826 & 0.1877854\\\\\n\tViability* & 4 & 51 & 3.607843 & 1.484297 &  3 & 3.536585 & 1.4826 & 1 &  8 &  7 &  0.60363776 &  0.51074896 & 0.2078431\\\\\n\tFeasiblity* & 5 & 51 & 3.156863 & 1.347183 &  3 & 3.170732 & 1.4826 & 1 &  6 &  5 & -0.03929919 & -1.01385791 & 0.1886433\\\\\n\tImpact* & 6 & 51 & 4.509804 & 1.461130 &  4 & 4.439024 & 1.4826 & 1 &  9 &  8 &  0.52791824 &  0.79797597 & 0.2045992\\\\\n\tPresentation* & 7 & 51 & 4.039216 & 1.469160 &  4 & 4.000000 & 1.4826 & 1 &  8 &  7 &  0.26773987 &  0.09853315 & 0.2057236\\\\\n\tTOTAL1* & 8 & 51 & 9.784314 & 4.953034 & 10 & 9.707317 & 5.9304 & 1 & 20 & 19 &  0.07507003 & -0.96378526 & 0.6935635\\\\\n\\end{tabular}\n",
            "text/markdown": "\nA psych: 8 × 13\n\n| <!--/--> | vars &lt;int&gt; | n &lt;dbl&gt; | mean &lt;dbl&gt; | sd &lt;dbl&gt; | median &lt;dbl&gt; | trimmed &lt;dbl&gt; | mad &lt;dbl&gt; | min &lt;dbl&gt; | max &lt;dbl&gt; | range &lt;dbl&gt; | skew &lt;dbl&gt; | kurtosis &lt;dbl&gt; | se &lt;dbl&gt; |\n|---|---|---|---|---|---|---|---|---|---|---|---|---|---|\n| Innovation* | 1 | 51 | 3.215686 | 1.540308 |  3 | 3.146341 | 1.4826 | 1 |  7 |  6 |  0.25608988 | -0.62225370 | 0.2156863 |\n| Market potential* | 2 | 51 | 3.333333 | 1.227464 |  3 | 3.243902 | 1.4826 | 1 |  7 |  6 |  0.57017334 |  0.06156608 | 0.1718793 |\n| Galileo relevance* | 3 | 51 | 3.960784 | 1.341056 |  4 | 3.951220 | 1.4826 | 1 |  7 |  6 |  0.11855192 | -0.77233826 | 0.1877854 |\n| Viability* | 4 | 51 | 3.607843 | 1.484297 |  3 | 3.536585 | 1.4826 | 1 |  8 |  7 |  0.60363776 |  0.51074896 | 0.2078431 |\n| Feasiblity* | 5 | 51 | 3.156863 | 1.347183 |  3 | 3.170732 | 1.4826 | 1 |  6 |  5 | -0.03929919 | -1.01385791 | 0.1886433 |\n| Impact* | 6 | 51 | 4.509804 | 1.461130 |  4 | 4.439024 | 1.4826 | 1 |  9 |  8 |  0.52791824 |  0.79797597 | 0.2045992 |\n| Presentation* | 7 | 51 | 4.039216 | 1.469160 |  4 | 4.000000 | 1.4826 | 1 |  8 |  7 |  0.26773987 |  0.09853315 | 0.2057236 |\n| TOTAL1* | 8 | 51 | 9.784314 | 4.953034 | 10 | 9.707317 | 5.9304 | 1 | 20 | 19 |  0.07507003 | -0.96378526 | 0.6935635 |\n\n",
            "text/html": [
              "<table class=\"dataframe\">\n",
              "<caption>A psych: 8 × 13</caption>\n",
              "<thead>\n",
              "\t<tr><th></th><th scope=col>vars</th><th scope=col>n</th><th scope=col>mean</th><th scope=col>sd</th><th scope=col>median</th><th scope=col>trimmed</th><th scope=col>mad</th><th scope=col>min</th><th scope=col>max</th><th scope=col>range</th><th scope=col>skew</th><th scope=col>kurtosis</th><th scope=col>se</th></tr>\n",
              "\t<tr><th></th><th scope=col>&lt;int&gt;</th><th scope=col>&lt;dbl&gt;</th><th scope=col>&lt;dbl&gt;</th><th scope=col>&lt;dbl&gt;</th><th scope=col>&lt;dbl&gt;</th><th scope=col>&lt;dbl&gt;</th><th scope=col>&lt;dbl&gt;</th><th scope=col>&lt;dbl&gt;</th><th scope=col>&lt;dbl&gt;</th><th scope=col>&lt;dbl&gt;</th><th scope=col>&lt;dbl&gt;</th><th scope=col>&lt;dbl&gt;</th><th scope=col>&lt;dbl&gt;</th></tr>\n",
              "</thead>\n",
              "<tbody>\n",
              "\t<tr><th scope=row>Innovation*</th><td>1</td><td>51</td><td>3.215686</td><td>1.540308</td><td> 3</td><td>3.146341</td><td>1.4826</td><td>1</td><td> 7</td><td> 6</td><td> 0.25608988</td><td>-0.62225370</td><td>0.2156863</td></tr>\n",
              "\t<tr><th scope=row>Market potential*</th><td>2</td><td>51</td><td>3.333333</td><td>1.227464</td><td> 3</td><td>3.243902</td><td>1.4826</td><td>1</td><td> 7</td><td> 6</td><td> 0.57017334</td><td> 0.06156608</td><td>0.1718793</td></tr>\n",
              "\t<tr><th scope=row>Galileo relevance*</th><td>3</td><td>51</td><td>3.960784</td><td>1.341056</td><td> 4</td><td>3.951220</td><td>1.4826</td><td>1</td><td> 7</td><td> 6</td><td> 0.11855192</td><td>-0.77233826</td><td>0.1877854</td></tr>\n",
              "\t<tr><th scope=row>Viability*</th><td>4</td><td>51</td><td>3.607843</td><td>1.484297</td><td> 3</td><td>3.536585</td><td>1.4826</td><td>1</td><td> 8</td><td> 7</td><td> 0.60363776</td><td> 0.51074896</td><td>0.2078431</td></tr>\n",
              "\t<tr><th scope=row>Feasiblity*</th><td>5</td><td>51</td><td>3.156863</td><td>1.347183</td><td> 3</td><td>3.170732</td><td>1.4826</td><td>1</td><td> 6</td><td> 5</td><td>-0.03929919</td><td>-1.01385791</td><td>0.1886433</td></tr>\n",
              "\t<tr><th scope=row>Impact*</th><td>6</td><td>51</td><td>4.509804</td><td>1.461130</td><td> 4</td><td>4.439024</td><td>1.4826</td><td>1</td><td> 9</td><td> 8</td><td> 0.52791824</td><td> 0.79797597</td><td>0.2045992</td></tr>\n",
              "\t<tr><th scope=row>Presentation*</th><td>7</td><td>51</td><td>4.039216</td><td>1.469160</td><td> 4</td><td>4.000000</td><td>1.4826</td><td>1</td><td> 8</td><td> 7</td><td> 0.26773987</td><td> 0.09853315</td><td>0.2057236</td></tr>\n",
              "\t<tr><th scope=row>TOTAL1*</th><td>8</td><td>51</td><td>9.784314</td><td>4.953034</td><td>10</td><td>9.707317</td><td>5.9304</td><td>1</td><td>20</td><td>19</td><td> 0.07507003</td><td>-0.96378526</td><td>0.6935635</td></tr>\n",
              "</tbody>\n",
              "</table>\n"
            ]
          },
          "metadata": {
            "tags": []
          }
        }
      ]
    },
    {
      "cell_type": "code",
      "metadata": {
        "colab": {
          "base_uri": "https://localhost:8080/",
          "height": 156
        },
        "id": "VNSPp2vHN1LG",
        "outputId": "ebdc238d-a43b-4cce-d620-02d32866d459"
      },
      "source": [
        "summary(df1)"
      ],
      "execution_count": 43,
      "outputs": [
        {
          "output_type": "display_data",
          "data": {
            "text/plain": [
              "  Innovation        Market potential   Galileo relevance   Viability        \n",
              " Length:51          Length:51          Length:51          Length:51         \n",
              " Class :character   Class :character   Class :character   Class :character  \n",
              " Mode  :character   Mode  :character   Mode  :character   Mode  :character  \n",
              "  Feasiblity           Impact          Presentation          TOTAL1         \n",
              " Length:51          Length:51          Length:51          Length:51         \n",
              " Class :character   Class :character   Class :character   Class :character  \n",
              " Mode  :character   Mode  :character   Mode  :character   Mode  :character  "
            ]
          },
          "metadata": {
            "tags": []
          }
        }
      ]
    },
    {
      "cell_type": "markdown",
      "metadata": {
        "id": "y-uInkAiOKxm"
      },
      "source": [
        "### Visualization"
      ]
    },
    {
      "cell_type": "code",
      "metadata": {
        "id": "t_5CG3RaPDmw"
      },
      "source": [
        "f <- ggplot(df1, aes(Innovation, Viability))"
      ],
      "execution_count": 45,
      "outputs": []
    },
    {
      "cell_type": "code",
      "metadata": {
        "colab": {
          "base_uri": "https://localhost:8080/",
          "height": 437
        },
        "id": "1T-569z9OfLN",
        "outputId": "e0b21bb6-1ba5-4e5c-8824-237542cea005"
      },
      "source": [
        " f + geom_point()"
      ],
      "execution_count": 46,
      "outputs": [
        {
          "output_type": "display_data",
          "data": {
            "image/png": "[encoded data removed]",
            "text/plain": [
              "plot without title"
            ]
          },
          "metadata": {
            "tags": [],
            "image/png": {
              "width": 420,
              "height": 420
            }
          }
        }
      ]
    },
    {
      "cell_type": "code",
      "metadata": {
        "colab": {
          "base_uri": "https://localhost:8080/",
          "height": 1000
        },
        "id": "UQLVzYeLOkQE",
        "outputId": "6e322ad8-74eb-4a24-e5b0-b449839da136"
      },
      "source": [
        " #f + geom_density(kernel = gaussian)\r\n",
        " f + geom_area(stat = \"bin\")"
      ],
      "execution_count": 49,
      "outputs": [
        {
          "output_type": "stream",
          "text": [
            "ERROR while rich displaying an object: Error: stat_bin() can only have an x or y aesthetic.\n",
            "\n",
            "Traceback:\n",
            "1. FUN(X[[i]], ...)\n",
            "2. tryCatch(withCallingHandlers({\n",
            " .     if (!mime %in% names(repr::mime2repr)) \n",
            " .         stop(\"No repr_* for mimetype \", mime, \" in repr::mime2repr\")\n",
            " .     rpr <- repr::mime2repr[[mime]](obj)\n",
            " .     if (is.null(rpr)) \n",
            " .         return(NULL)\n",
            " .     prepare_content(is.raw(rpr), rpr)\n",
            " . }, error = error_handler), error = outer_handler)\n",
            "3. tryCatchList(expr, classes, parentenv, handlers)\n",
            "4. tryCatchOne(expr, names, parentenv, handlers[[1L]])\n",
            "5. doTryCatch(return(expr), name, parentenv, handler)\n",
            "6. withCallingHandlers({\n",
            " .     if (!mime %in% names(repr::mime2repr)) \n",
            " .         stop(\"No repr_* for mimetype \", mime, \" in repr::mime2repr\")\n",
            " .     rpr <- repr::mime2repr[[mime]](obj)\n",
            " .     if (is.null(rpr)) \n",
            " .         return(NULL)\n",
            " .     prepare_content(is.raw(rpr), rpr)\n",
            " . }, error = error_handler)\n",
            "7. repr::mime2repr[[mime]](obj)\n",
            "8. repr_text.default(obj)\n",
            "9. paste(capture.output(print(obj)), collapse = \"\\n\")\n",
            "10. capture.output(print(obj))\n",
            "11. evalVis(expr)\n",
            "12. withVisible(eval(expr, pf))\n",
            "13. eval(expr, pf)\n",
            "14. eval(expr, pf)\n",
            "15. print(obj)\n",
            "16. print.ggplot(obj)\n",
            "17. ggplot_build(x)\n",
            "18. ggplot_build.ggplot(x)\n",
            "19. by_layer(function(l, d) l$compute_statistic(d, layout))\n",
            "20. f(l = layers[[i]], d = data[[i]])\n",
            "21. l$compute_statistic(d, layout)\n",
            "22. f(..., self = self)\n",
            "23. self$stat$setup_params(data, self$stat_params)\n",
            "24. f(...)\n",
            "25. abort(\"stat_bin() can only have an x or y aesthetic.\")\n",
            "26. signal_abort(cnd)\n"
          ],
          "name": "stderr"
        },
        {
          "output_type": "display_data",
          "data": {
            "image/png": "[encoded data removed]",
            "text/plain": [
              "plot without title"
            ]
          },
          "metadata": {
            "tags": [],
            "image/png": {
              "width": 420,
              "height": 420
            }
          }
        }
      ]
    },
    {
      "cell_type": "code",
      "metadata": {
        "id": "osFm4EnqE4jQ"
      },
      "source": [
        "# Wickham's ggplot2 source: https://drive.google.com/file/d/1VGpee1Y5CVqdNnLPdxW2clVXYSf-NU8-/\r\n",
        "#plot(data1[1:5])\r\n",
        "\r\n",
        "plot(data1.t)"
      ],
      "execution_count": null,
      "outputs": []
    },
    {
      "cell_type": "code",
      "metadata": {
        "id": "SeE6aVYcS4xu"
      },
      "source": [
        "#ggplot(df1, aes(X, Viability)) + geom_point()\r\n",
        "\r\n",
        "#qplot(x, y, data=, color=, shape=, size=, alpha=, geom=, method=, formula=,\r\n",
        "#+ facets=, xlim=, ylim= xlab=, ylab=, main=, sub=)\r\n",
        "\r\n",
        "qplot(X, data=df1, geom=\"histogram\", facets = . ~ Viability, binwidth=1)\r\n",
        "\r\n",
        "#p <- qplot(hp, mpg, data=mtcars, shape=am, color=am,\r\n",
        "#   facets=gear~cyl, main=\"Scatterplots of MPG vs. Horsepower\",\r\n",
        "#   xlab=\"Horsepower\", ylab=\"Miles per Gallon\")"
      ],
      "execution_count": null,
      "outputs": []
    },
    {
      "cell_type": "code",
      "metadata": {
        "id": "pjJIynMtQHzx"
      },
      "source": [
        "f <- ggplot()\r\n",
        "e + geom_histogram(binwidth=5)"
      ],
      "execution_count": null,
      "outputs": []
    },
    {
      "cell_type": "code",
      "metadata": {
        "id": "0_JUY7YUGpoZ"
      },
      "source": [
        "plot(data2[1:5])"
      ],
      "execution_count": null,
      "outputs": []
    },
    {
      "cell_type": "markdown",
      "metadata": {
        "id": "tdzjs29hE5As"
      },
      "source": [
        ""
      ]
    },
    {
      "cell_type": "code",
      "metadata": {
        "id": "o17al4amEP8i"
      },
      "source": [
        "# create factors with value labels \n",
        "mtcars$gear <- factor(mtcars$gear,levels=c(3,4,5),\n",
        "  \tlabels=c(\"3gears\",\"4gears\",\"5gears\")) \n",
        "mtcars$am <- factor(mtcars$am,levels=c(0,1),\n",
        "  \tlabels=c(\"Automatic\",\"Manual\")) \n",
        "mtcars$cyl <- factor(mtcars$cyl,levels=c(4,6,8),\n",
        "   labels=c(\"4cyl\",\"6cyl\",\"8cyl\")) "
      ],
      "execution_count": null,
      "outputs": []
    },
    {
      "cell_type": "code",
      "metadata": {
        "id": "Ch-Kzd-FEP8i"
      },
      "source": [
        "# Kernel density plots for mpg\n",
        "# grouped by number of gears (indicated by color)\n",
        "qplot(mpg, data=mtcars, geom=\"density\", fill=gear, alpha=I(.5), \n",
        "   main=\"Distribution of Gas Milage\", xlab=\"Miles Per Gallon\", \n",
        "   ylab=\"Density\")"
      ],
      "execution_count": null,
      "outputs": []
    },
    {
      "cell_type": "code",
      "metadata": {
        "id": "iyoZar88EP8j"
      },
      "source": [
        "# Scatterplot of mpg vs. hp for each combination of gears and cylinders\n",
        "# in each facet, transmittion type is represented by shape and color\n",
        "qplot(hp, mpg, data=mtcars, shape=am, color=am, \n",
        "   facets=gear~cyl, size=I(3),\n",
        "   xlab=\"Horsepower\", ylab=\"Miles per Gallon\") "
      ],
      "execution_count": null,
      "outputs": []
    },
    {
      "cell_type": "code",
      "metadata": {
        "id": "5vSShhzAEP8k"
      },
      "source": [
        "# Separate regressions of mpg on weight for each number of cylinders\n",
        "qplot(wt, mpg, data=mtcars, geom=c(\"point\", \"smooth\"), \n",
        "   method=\"lm\", formula=y~x, color=cyl, \n",
        "   main=\"Regression of MPG on Weight\", \n",
        "   xlab=\"Weight\", ylab=\"Miles per Gallon\")"
      ],
      "execution_count": null,
      "outputs": []
    },
    {
      "cell_type": "code",
      "metadata": {
        "id": "kyVXjq9xEP8k"
      },
      "source": [
        "# Boxplots of mpg by number of gears \n",
        "# observations (points) are overlayed and jittered\n",
        "qplot(gear, mpg, data=mtcars, geom=c(\"boxplot\", \"jitter\"), \n",
        "   fill=gear, main=\"Mileage by Gear Number\",\n",
        "   xlab=\"\", ylab=\"Miles per Gallon\")"
      ],
      "execution_count": null,
      "outputs": []
    },
    {
      "cell_type": "code",
      "metadata": {
        "id": "VMZxMAFcEP8l"
      },
      "source": [
        ""
      ],
      "execution_count": null,
      "outputs": []
    }
  ]
}